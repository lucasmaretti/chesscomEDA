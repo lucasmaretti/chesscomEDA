{
 "cells": [
  {
   "cell_type": "markdown",
   "metadata": {},
   "source": [
    "## Exploring chess.com API - data analysis"
   ]
  },
  {
   "cell_type": "code",
   "execution_count": 1,
   "metadata": {},
   "outputs": [],
   "source": [
    "import pandas as pd\n",
    "import chessdotcom as chesscom\n",
    "import pgn_parser\n",
    "from pgn_parser import pgn, parser\n",
    "import re\n",
    "import datetime\n",
    "\n",
    "import matplotlib\n",
    "from matplotlib import pyplot as plt\n",
    "import seaborn as sns\n",
    "%matplotlib inline"
   ]
  },
  {
   "cell_type": "markdown",
   "metadata": {},
   "source": [
    "Function to show values on a seaborn / matplotlib barplot.\n",
    "\n",
    "Credits goes to users \"Sharon Soussan and \"Secant Zhang\" on Stack Exchange who posted it.\n",
    "\n",
    "https://stackoverflow.com/questions/43214978/seaborn-barplot-displaying-values"
   ]
  },
  {
   "cell_type": "code",
   "execution_count": 2,
   "metadata": {},
   "outputs": [],
   "source": [
    "def show_values_on_bars(axs, h_v=\"v\", space=0.4):\n",
    "    def _show_on_single_plot(ax):\n",
    "        if h_v == \"v\":\n",
    "            for p in ax.patches:\n",
    "                _x = p.get_x() + p.get_width() / 2\n",
    "                _y = p.get_y() + p.get_height()\n",
    "                value = int(p.get_height())\n",
    "                ax.text(_x, _y, value, ha=\"center\") \n",
    "        elif h_v == \"h\":\n",
    "            for p in ax.patches:\n",
    "                _x = p.get_x() + p.get_width() + float(space)\n",
    "                _y = p.get_y() + p.get_height()\n",
    "                value = int(p.get_width())\n",
    "                ax.text(_x, _y, value, ha=\"left\")\n",
    "\n",
    "    if isinstance(axs, np.ndarray):\n",
    "        for idx, ax in np.ndenumerate(axs):\n",
    "            _show_on_single_plot(ax)\n",
    "    else:\n",
    "        _show_on_single_plot(axs)"
   ]
  },
  {
   "cell_type": "markdown",
   "metadata": {},
   "source": [
    "To utilize the API, the user has to determine which username he wants to extract the data from, as well as month and year. The cell below sets up these infos."
   ]
  },
  {
   "cell_type": "code",
   "execution_count": 3,
   "metadata": {},
   "outputs": [],
   "source": [
    "username = \"itteram\"\n",
    "month = \"12\"\n",
    "year = \"2020\""
   ]
  },
  {
   "cell_type": "code",
   "execution_count": 4,
   "metadata": {},
   "outputs": [],
   "source": [
    "player = chesscom.get_player_games_by_month(username = username, year = year, month = month)"
   ]
  },
  {
   "cell_type": "code",
   "execution_count": 5,
   "metadata": {},
   "outputs": [
    {
     "name": "stdout",
     "output_type": "stream",
     "text": [
      "User itteram has played 398 games in 12/2020\n"
     ]
    }
   ],
   "source": [
    "print(\"User {} has played {} games in {}/{}\".format(username, len(player.json[\"games\"]), month, year))"
   ]
  },
  {
   "cell_type": "markdown",
   "metadata": {},
   "source": [
    "We need to parse the data to find the infos that we want:\n",
    "- Opening\n",
    "- Game type: (blitz, rapids, etc)\n",
    "- Color played by user, etc.\n"
   ]
  },
  {
   "cell_type": "markdown",
   "metadata": {},
   "source": [
    "### For loop to extract infos from each game such as moves, color played, usernames, opening, etc."
   ]
  },
  {
   "cell_type": "code",
   "execution_count": 6,
   "metadata": {},
   "outputs": [],
   "source": [
    "games = {}\n",
    "for i in range(len(player.json[\"games\"])):\n",
    "    \n",
    "    #Parsing game info from PGN\n",
    "    game = parser.parse(player.json[\"games\"][i][\"pgn\"], actions=pgn.Actions())\n",
    "    gamemoves = game.movetext\n",
    "    gamemoves = str(gamemoves)\n",
    "    gamemoves = re.sub(r'\\d\\d\\d\\.\\.\\.', '', gamemoves)\n",
    "    gamemoves = re.sub(r'\\d\\d\\.\\.\\.', '', gamemoves)\n",
    "    gamemoves = re.sub(r'\\d\\.\\.\\.', '', gamemoves)\n",
    "    gamemoves = re.sub(r'\\{(.*?)\\}', '', gamemoves)\n",
    "    gamemoves = gamemoves.strip()\n",
    "    game1 = parser.parse(gamemoves, actions=pgn.Actions())\n",
    "    \n",
    "    moves = []\n",
    "    moves_black = []\n",
    "    moves_white = []\n",
    "    \n",
    "    #First moves for black and white separated\n",
    "    \n",
    "    for j in range(1):\n",
    "        try:\n",
    "            moves_black.append(game1.move(j+1).black.san)\n",
    "            moves_white.append(game1.move(j+1).white.san)\n",
    "        except Exception:\n",
    "            break\n",
    "    moves.append(moves_white)\n",
    "    moves.append(moves_black)\n",
    "    games[i+1] = moves\n",
    "    \n",
    "    #First 2 moves for black and white separated\n",
    "    \n",
    "    moves = []\n",
    "    moves_black = []\n",
    "    moves_white = []\n",
    "    \n",
    "    for j in range(2):\n",
    "        try:\n",
    "            moves_black.append(game1.move(j+1).black.san)\n",
    "            moves_white.append(game1.move(j+1).white.san)\n",
    "        except Exception:\n",
    "            break\n",
    "    games[i+1].append(moves_white)\n",
    "    games[i+1].append(moves_black)\n",
    "    \n",
    "    #First 3 moves for black and white separated\n",
    "    \n",
    "    moves = []\n",
    "    moves_black = []\n",
    "    moves_white = []\n",
    "    \n",
    "    for j in range(3):\n",
    "        try:\n",
    "            moves_black.append(game1.move(j+1).black.san)\n",
    "            moves_white.append(game1.move(j+1).white.san)\n",
    "        except Exception:\n",
    "            break\n",
    "    games[i+1].append(moves_white)\n",
    "    games[i+1].append(moves_black)\n",
    "    \n",
    "    #First 4 moves for black and white separated\n",
    "    \n",
    "    moves = []\n",
    "    moves_black = []\n",
    "    moves_white = []\n",
    "    \n",
    "    for j in range(4):\n",
    "        try:\n",
    "            moves_black.append(game1.move(j+1).black.san)\n",
    "            moves_white.append(game1.move(j+1).white.san)\n",
    "        except Exception:\n",
    "            break\n",
    "    games[i+1].append(moves_white)\n",
    "    games[i+1].append(moves_black)\n",
    "    \n",
    "    #First 4 moves altogether\n",
    "    \n",
    "    moves = []\n",
    "    moves_black = []\n",
    "    moves_white = []\n",
    "    \n",
    "    for j in range(4):\n",
    "        try:\n",
    "            moves.append(game1.move(j+1))\n",
    "        except Exception:\n",
    "            break\n",
    "    moves.append(moves)\n",
    "    games[i+1].append(moves)\n",
    "    \n",
    "    #Game date\n",
    "    games[i+1].append(game.tag_pairs[\"Date\"])\n",
    "    \n",
    "    #Time class\n",
    "    games[i+1].append(player.json[\"games\"][i][\"time_class\"])\n",
    "    \n",
    "    #Time control\n",
    "    games[i+1].append(player.json[\"games\"][i][\"time_control\"])\n",
    "    \n",
    "    #Extracting and appending opening\n",
    "    try:\n",
    "        opening = game.tag_pairs[\"ECOUrl\"].split('/')[-1]\n",
    "        opening = re.sub(r'-', ' ', opening)\n",
    "        games[i+1].append(opening)\n",
    "    except KeyError:\n",
    "        if type(game.tag_pairs[\"Tournament\"]) is str:\n",
    "            opening = \"Tournament game\"\n",
    "            games[i+1].append(opening)\n",
    "        else:\n",
    "            opening = \"Opening not found\"\n",
    "            games[i+1].append(opening)\n",
    "    \n",
    "    \n",
    "    #The try-except clause is because apparently for tournament games the tag_pairs method does not have\n",
    "    #the \"ECOUrl\" object and this whole parsing cell crashed. This needs to be investigated further    \n",
    "    \n",
    "    #Extracting and appending white player and rating\n",
    "    white = game.tag_pairs[\"White\"]\n",
    "    rating = int(game.tag_pairs[\"WhiteElo\"])\n",
    "    games[i+1].append(white)\n",
    "    games[i+1].append(rating)\n",
    "    \n",
    "    #Extracting and appending black player\n",
    "    black = game.tag_pairs[\"Black\"]\n",
    "    rating = int(game.tag_pairs[\"BlackElo\"])\n",
    "    games[i+1].append(black)\n",
    "    games[i+1].append(rating)\n",
    "    \n",
    "    #Extracting and appending result\n",
    "    result = game.tag_pairs[\"Result\"]\n",
    "    games[i+1].append(result)"
   ]
  },
  {
   "cell_type": "markdown",
   "metadata": {},
   "source": [
    "Setting up the column names for our dataframe"
   ]
  },
  {
   "cell_type": "code",
   "execution_count": 8,
   "metadata": {},
   "outputs": [],
   "source": [
    "df_columns = [\"White 1st move\", \"Black 1st move\", \"White first 2 moves\" ,\"Black first 2 moves\", \"White first 3 moves\",\n",
    "              \"Black first 3 moves\", \"White first 4 moves\", \"Black first 4 moves\", \"First 4 moves\", \"Date\", \n",
    "              \"Game type\", \"Time control\", \"Opening\", \"White player\", \"White player rating\",\n",
    "              \"Black player\", \"Black player rating\", \"Result\"]"
   ]
  },
  {
   "cell_type": "code",
   "execution_count": 9,
   "metadata": {},
   "outputs": [
    {
     "data": {
      "text/plain": [
       "[['e4'],\n",
       " ['e5'],\n",
       " ['e4', 'Nf3'],\n",
       " ['e5', 'Bc5'],\n",
       " ['e4', 'Nf3', 'Bc4'],\n",
       " ['e5', 'Bc5', 'f6'],\n",
       " ['e4', 'Nf3', 'Bc4', 'c3'],\n",
       " ['e5', 'Bc5', 'f6', 'Nc6'],\n",
       " [1. e4 e5, 2. Nf3 Bc5, 3. Bc4 f6, 4. c3 Nc6, [...]],\n",
       " '2020.12.02',\n",
       " 'rapid',\n",
       " '600',\n",
       " 'Kings Pawn Opening Kings Knight Busch Gass Gambit',\n",
       " 'itteram',\n",
       " 1096,\n",
       " 'NewEnglandCM',\n",
       " 1085,\n",
       " '0-1']"
      ]
     },
     "execution_count": 9,
     "metadata": {},
     "output_type": "execute_result"
    }
   ],
   "source": [
    "# Example of info extracted from a particular game\n",
    "games[1]"
   ]
  },
  {
   "cell_type": "code",
   "execution_count": 10,
   "metadata": {},
   "outputs": [],
   "source": [
    "games1=[]\n",
    "\n",
    "for i in range(len(games)):\n",
    "    games1.append(games[i+1])"
   ]
  },
  {
   "cell_type": "code",
   "execution_count": 11,
   "metadata": {},
   "outputs": [],
   "source": [
    "df = pd.DataFrame(games1, columns = df_columns)"
   ]
  },
  {
   "cell_type": "markdown",
   "metadata": {},
   "source": [
    "Basic feature engineering and EDA"
   ]
  },
  {
   "cell_type": "code",
   "execution_count": 12,
   "metadata": {},
   "outputs": [],
   "source": [
    "df['Date'] =  pd.to_datetime(df['Date'], format='%Y.%m.%d')\n",
    "df['Year'] = df['Date'].dt.year\n",
    "df['Month'] = df['Date'].dt.month\n",
    "df['Day'] = df['Date'].dt.day"
   ]
  },
  {
   "cell_type": "code",
   "execution_count": 13,
   "metadata": {},
   "outputs": [
    {
     "name": "stdout",
     "output_type": "stream",
     "text": [
      "<class 'pandas.core.frame.DataFrame'>\n",
      "RangeIndex: 398 entries, 0 to 397\n",
      "Data columns (total 21 columns):\n",
      " #   Column               Non-Null Count  Dtype         \n",
      "---  ------               --------------  -----         \n",
      " 0   White 1st move       398 non-null    object        \n",
      " 1   Black 1st move       398 non-null    object        \n",
      " 2   White first 2 moves  398 non-null    object        \n",
      " 3   Black first 2 moves  398 non-null    object        \n",
      " 4   White first 3 moves  398 non-null    object        \n",
      " 5   Black first 3 moves  398 non-null    object        \n",
      " 6   White first 4 moves  398 non-null    object        \n",
      " 7   Black first 4 moves  398 non-null    object        \n",
      " 8   First 4 moves        398 non-null    object        \n",
      " 9   Date                 398 non-null    datetime64[ns]\n",
      " 10  Game type            398 non-null    object        \n",
      " 11  Time control         398 non-null    object        \n",
      " 12  Opening              398 non-null    object        \n",
      " 13  White player         398 non-null    object        \n",
      " 14  White player rating  398 non-null    int64         \n",
      " 15  Black player         398 non-null    object        \n",
      " 16  Black player rating  398 non-null    int64         \n",
      " 17  Result               398 non-null    object        \n",
      " 18  Year                 398 non-null    int64         \n",
      " 19  Month                398 non-null    int64         \n",
      " 20  Day                  398 non-null    int64         \n",
      "dtypes: datetime64[ns](1), int64(5), object(15)\n",
      "memory usage: 65.4+ KB\n"
     ]
    }
   ],
   "source": [
    "df.info()"
   ]
  },
  {
   "cell_type": "code",
   "execution_count": 14,
   "metadata": {},
   "outputs": [],
   "source": [
    "#Creating a variable that says the color that the user played in each game. This will be helpful for stratified EDA\n",
    "\n",
    "import numpy as np\n",
    "df['Rating'] = np.where(df['White player']=='itteram', df['White player rating'], df['Black player rating'])\n",
    "df['Color'] = np.where(df['White player']=='itteram', \"White\", \"Black\")"
   ]
  },
  {
   "cell_type": "code",
   "execution_count": 15,
   "metadata": {},
   "outputs": [
    {
     "data": {
      "text/html": [
       "<div>\n",
       "<style scoped>\n",
       "    .dataframe tbody tr th:only-of-type {\n",
       "        vertical-align: middle;\n",
       "    }\n",
       "\n",
       "    .dataframe tbody tr th {\n",
       "        vertical-align: top;\n",
       "    }\n",
       "\n",
       "    .dataframe thead th {\n",
       "        text-align: right;\n",
       "    }\n",
       "</style>\n",
       "<table border=\"1\" class=\"dataframe\">\n",
       "  <thead>\n",
       "    <tr style=\"text-align: right;\">\n",
       "      <th></th>\n",
       "      <th>White 1st move</th>\n",
       "      <th>Black 1st move</th>\n",
       "      <th>White first 2 moves</th>\n",
       "      <th>Black first 2 moves</th>\n",
       "      <th>White first 3 moves</th>\n",
       "      <th>Black first 3 moves</th>\n",
       "      <th>White first 4 moves</th>\n",
       "      <th>Black first 4 moves</th>\n",
       "      <th>First 4 moves</th>\n",
       "      <th>Date</th>\n",
       "      <th>Game type</th>\n",
       "      <th>Time control</th>\n",
       "      <th>Opening</th>\n",
       "      <th>White player</th>\n",
       "      <th>White player rating</th>\n",
       "      <th>Black player</th>\n",
       "      <th>Black player rating</th>\n",
       "      <th>Result</th>\n",
       "      <th>Year</th>\n",
       "      <th>Month</th>\n",
       "      <th>Day</th>\n",
       "      <th>Rating</th>\n",
       "      <th>Color</th>\n",
       "    </tr>\n",
       "  </thead>\n",
       "  <tbody>\n",
       "    <tr>\n",
       "      <th>383</th>\n",
       "      <td>[e4]</td>\n",
       "      <td>[c5]</td>\n",
       "      <td>[e4, d4]</td>\n",
       "      <td>[c5, cxd4]</td>\n",
       "      <td>[e4, d4, c3]</td>\n",
       "      <td>[c5, cxd4, dxc3]</td>\n",
       "      <td>[e4, d4, c3, Bc4]</td>\n",
       "      <td>[c5, cxd4, dxc3, cxb2]</td>\n",
       "      <td>[1. e4 c5, 2. d4 cxd4, 3. c3 dxc3, 4. Bc4 cxb2...</td>\n",
       "      <td>2020-12-31</td>\n",
       "      <td>blitz</td>\n",
       "      <td>300</td>\n",
       "      <td>Sicilian Defense Smith Morra Gambit Accepted</td>\n",
       "      <td>oli83YNWA</td>\n",
       "      <td>814</td>\n",
       "      <td>itteram</td>\n",
       "      <td>920</td>\n",
       "      <td>0-1</td>\n",
       "      <td>2020</td>\n",
       "      <td>12</td>\n",
       "      <td>31</td>\n",
       "      <td>920</td>\n",
       "      <td>Black</td>\n",
       "    </tr>\n",
       "    <tr>\n",
       "      <th>378</th>\n",
       "      <td>[e4]</td>\n",
       "      <td>[c5]</td>\n",
       "      <td>[e4, d3]</td>\n",
       "      <td>[c5, Nc6]</td>\n",
       "      <td>[e4, d3, c3]</td>\n",
       "      <td>[c5, Nc6, d6]</td>\n",
       "      <td>[e4, d3, c3, f3]</td>\n",
       "      <td>[c5, Nc6, d6, Nf6]</td>\n",
       "      <td>[1. e4 c5, 2. d3 Nc6, 3. c3 d6, 4. f3 Nf6, [1....</td>\n",
       "      <td>2020-12-31</td>\n",
       "      <td>blitz</td>\n",
       "      <td>300</td>\n",
       "      <td>Sicilian Defense 2.d3 Nc6 3.c3 d6</td>\n",
       "      <td>afplacerda</td>\n",
       "      <td>798</td>\n",
       "      <td>itteram</td>\n",
       "      <td>913</td>\n",
       "      <td>1/2-1/2</td>\n",
       "      <td>2020</td>\n",
       "      <td>12</td>\n",
       "      <td>31</td>\n",
       "      <td>913</td>\n",
       "      <td>Black</td>\n",
       "    </tr>\n",
       "    <tr>\n",
       "      <th>384</th>\n",
       "      <td>[d4]</td>\n",
       "      <td>[d5]</td>\n",
       "      <td>[d4, c4]</td>\n",
       "      <td>[d5, c6]</td>\n",
       "      <td>[d4, c4, Nc3]</td>\n",
       "      <td>[d5, c6, Nf6]</td>\n",
       "      <td>[d4, c4, Nc3, g3]</td>\n",
       "      <td>[d5, c6, Nf6, Bg4]</td>\n",
       "      <td>[1. d4 d5, 2. c4 c6, 3. Nc3 Nf6, 4. g3 Bg4, [1...</td>\n",
       "      <td>2020-12-31</td>\n",
       "      <td>blitz</td>\n",
       "      <td>300</td>\n",
       "      <td>Slav Defense 3.Nc3</td>\n",
       "      <td>itteram</td>\n",
       "      <td>926</td>\n",
       "      <td>Kaneda94</td>\n",
       "      <td>830</td>\n",
       "      <td>1-0</td>\n",
       "      <td>2020</td>\n",
       "      <td>12</td>\n",
       "      <td>31</td>\n",
       "      <td>926</td>\n",
       "      <td>White</td>\n",
       "    </tr>\n",
       "    <tr>\n",
       "      <th>370</th>\n",
       "      <td>[e4]</td>\n",
       "      <td>[c5]</td>\n",
       "      <td>[e4, d3]</td>\n",
       "      <td>[c5, d6]</td>\n",
       "      <td>[e4, d3, h3]</td>\n",
       "      <td>[c5, d6, Nc6]</td>\n",
       "      <td>[e4, d3, h3, c3]</td>\n",
       "      <td>[c5, d6, Nc6, Nf6]</td>\n",
       "      <td>[1. e4 c5, 2. d3 d6, 3. h3 Nc6, 4. c3 Nf6, [1....</td>\n",
       "      <td>2020-12-31</td>\n",
       "      <td>blitz</td>\n",
       "      <td>300</td>\n",
       "      <td>Sicilian Defense 2.d3</td>\n",
       "      <td>abuyamis789</td>\n",
       "      <td>887</td>\n",
       "      <td>itteram</td>\n",
       "      <td>913</td>\n",
       "      <td>0-1</td>\n",
       "      <td>2020</td>\n",
       "      <td>12</td>\n",
       "      <td>31</td>\n",
       "      <td>913</td>\n",
       "      <td>Black</td>\n",
       "    </tr>\n",
       "    <tr>\n",
       "      <th>371</th>\n",
       "      <td>[e4]</td>\n",
       "      <td>[c5]</td>\n",
       "      <td>[e4, f4]</td>\n",
       "      <td>[c5, d5]</td>\n",
       "      <td>[e4, f4, e5]</td>\n",
       "      <td>[c5, d5, Nc6]</td>\n",
       "      <td>[e4, f4, e5, c3]</td>\n",
       "      <td>[c5, d5, Nc6, e6]</td>\n",
       "      <td>[1. e4 c5, 2. f4 d5, 3. e5 Nc6, 4. c3 e6, [1. ...</td>\n",
       "      <td>2020-12-31</td>\n",
       "      <td>blitz</td>\n",
       "      <td>300</td>\n",
       "      <td>Sicilian Defense McDonnell Attack 2...d5 3.e5</td>\n",
       "      <td>sjhipple</td>\n",
       "      <td>877</td>\n",
       "      <td>itteram</td>\n",
       "      <td>920</td>\n",
       "      <td>0-1</td>\n",
       "      <td>2020</td>\n",
       "      <td>12</td>\n",
       "      <td>31</td>\n",
       "      <td>920</td>\n",
       "      <td>Black</td>\n",
       "    </tr>\n",
       "  </tbody>\n",
       "</table>\n",
       "</div>"
      ],
      "text/plain": [
       "    White 1st move Black 1st move White first 2 moves Black first 2 moves  \\\n",
       "383           [e4]           [c5]            [e4, d4]          [c5, cxd4]   \n",
       "378           [e4]           [c5]            [e4, d3]           [c5, Nc6]   \n",
       "384           [d4]           [d5]            [d4, c4]            [d5, c6]   \n",
       "370           [e4]           [c5]            [e4, d3]            [c5, d6]   \n",
       "371           [e4]           [c5]            [e4, f4]            [c5, d5]   \n",
       "\n",
       "    White first 3 moves Black first 3 moves White first 4 moves  \\\n",
       "383        [e4, d4, c3]    [c5, cxd4, dxc3]   [e4, d4, c3, Bc4]   \n",
       "378        [e4, d3, c3]       [c5, Nc6, d6]    [e4, d3, c3, f3]   \n",
       "384       [d4, c4, Nc3]       [d5, c6, Nf6]   [d4, c4, Nc3, g3]   \n",
       "370        [e4, d3, h3]       [c5, d6, Nc6]    [e4, d3, h3, c3]   \n",
       "371        [e4, f4, e5]       [c5, d5, Nc6]    [e4, f4, e5, c3]   \n",
       "\n",
       "        Black first 4 moves  \\\n",
       "383  [c5, cxd4, dxc3, cxb2]   \n",
       "378      [c5, Nc6, d6, Nf6]   \n",
       "384      [d5, c6, Nf6, Bg4]   \n",
       "370      [c5, d6, Nc6, Nf6]   \n",
       "371       [c5, d5, Nc6, e6]   \n",
       "\n",
       "                                         First 4 moves       Date Game type  \\\n",
       "383  [1. e4 c5, 2. d4 cxd4, 3. c3 dxc3, 4. Bc4 cxb2... 2020-12-31     blitz   \n",
       "378  [1. e4 c5, 2. d3 Nc6, 3. c3 d6, 4. f3 Nf6, [1.... 2020-12-31     blitz   \n",
       "384  [1. d4 d5, 2. c4 c6, 3. Nc3 Nf6, 4. g3 Bg4, [1... 2020-12-31     blitz   \n",
       "370  [1. e4 c5, 2. d3 d6, 3. h3 Nc6, 4. c3 Nf6, [1.... 2020-12-31     blitz   \n",
       "371  [1. e4 c5, 2. f4 d5, 3. e5 Nc6, 4. c3 e6, [1. ... 2020-12-31     blitz   \n",
       "\n",
       "    Time control                                        Opening White player  \\\n",
       "383          300   Sicilian Defense Smith Morra Gambit Accepted    oli83YNWA   \n",
       "378          300              Sicilian Defense 2.d3 Nc6 3.c3 d6   afplacerda   \n",
       "384          300                             Slav Defense 3.Nc3      itteram   \n",
       "370          300                          Sicilian Defense 2.d3  abuyamis789   \n",
       "371          300  Sicilian Defense McDonnell Attack 2...d5 3.e5     sjhipple   \n",
       "\n",
       "     White player rating Black player  Black player rating   Result  Year  \\\n",
       "383                  814      itteram                  920      0-1  2020   \n",
       "378                  798      itteram                  913  1/2-1/2  2020   \n",
       "384                  926     Kaneda94                  830      1-0  2020   \n",
       "370                  887      itteram                  913      0-1  2020   \n",
       "371                  877      itteram                  920      0-1  2020   \n",
       "\n",
       "     Month  Day  Rating  Color  \n",
       "383     12   31     920  Black  \n",
       "378     12   31     913  Black  \n",
       "384     12   31     926  White  \n",
       "370     12   31     913  Black  \n",
       "371     12   31     920  Black  "
      ]
     },
     "execution_count": 15,
     "metadata": {},
     "output_type": "execute_result"
    }
   ],
   "source": [
    "pd.set_option('max_columns', None)\n",
    "df.sort_values(by = \"Day\", ascending = False).head()"
   ]
  },
  {
   "cell_type": "code",
   "execution_count": 16,
   "metadata": {},
   "outputs": [
    {
     "data": {
      "text/plain": [
       "Index(['White 1st move', 'Black 1st move', 'White first 2 moves',\n",
       "       'Black first 2 moves', 'White first 3 moves', 'Black first 3 moves',\n",
       "       'White first 4 moves', 'Black first 4 moves', 'First 4 moves', 'Date',\n",
       "       'Game type', 'Time control', 'Opening', 'White player',\n",
       "       'White player rating', 'Black player', 'Black player rating', 'Result',\n",
       "       'Year', 'Month', 'Day', 'Rating', 'Color'],\n",
       "      dtype='object')"
      ]
     },
     "execution_count": 16,
     "metadata": {},
     "output_type": "execute_result"
    }
   ],
   "source": [
    "df.columns"
   ]
  },
  {
   "cell_type": "code",
   "execution_count": 17,
   "metadata": {},
   "outputs": [],
   "source": [
    "df[['White 1st move', 'Black 1st move', 'White first 2 moves',\n",
    "       'Black first 2 moves', 'White first 3 moves', 'Black first 3 moves',\n",
    "       'White first 4 moves', 'Black first 4 moves', 'First 4 moves']] = df[['White 1st move', 'Black 1st move', 'White first 2 moves',\n",
    "       'Black first 2 moves', 'White first 3 moves', 'Black first 3 moves',\n",
    "       'White first 4 moves', 'Black first 4 moves', 'First 4 moves']].astype(str)"
   ]
  },
  {
   "cell_type": "code",
   "execution_count": 18,
   "metadata": {},
   "outputs": [
    {
     "data": {
      "text/plain": [
       "array(['rapid', 'blitz', 'bullet', 'daily'], dtype=object)"
      ]
     },
     "execution_count": 18,
     "metadata": {},
     "output_type": "execute_result"
    }
   ],
   "source": [
    "df[\"Game type\"].unique()"
   ]
  },
  {
   "cell_type": "code",
   "execution_count": 19,
   "metadata": {},
   "outputs": [],
   "source": [
    "df[\"Game type\"] = df[\"Game type\"].apply(lambda x: x.capitalize())"
   ]
  },
  {
   "cell_type": "code",
   "execution_count": 20,
   "metadata": {},
   "outputs": [],
   "source": [
    "game_type = \"Rapid\"\n",
    "\n",
    "#options are \"Rapid\", \"Blitz\" or \"Bullet\""
   ]
  },
  {
   "cell_type": "code",
   "execution_count": 21,
   "metadata": {},
   "outputs": [
    {
     "data": {
      "text/html": [
       "<div>\n",
       "<style scoped>\n",
       "    .dataframe tbody tr th:only-of-type {\n",
       "        vertical-align: middle;\n",
       "    }\n",
       "\n",
       "    .dataframe tbody tr th {\n",
       "        vertical-align: top;\n",
       "    }\n",
       "\n",
       "    .dataframe thead th {\n",
       "        text-align: right;\n",
       "    }\n",
       "</style>\n",
       "<table border=\"1\" class=\"dataframe\">\n",
       "  <thead>\n",
       "    <tr style=\"text-align: right;\">\n",
       "      <th></th>\n",
       "      <th>Day</th>\n",
       "      <th>Rating</th>\n",
       "    </tr>\n",
       "  </thead>\n",
       "  <tbody>\n",
       "    <tr>\n",
       "      <th>0</th>\n",
       "      <td>2</td>\n",
       "      <td>1115</td>\n",
       "    </tr>\n",
       "    <tr>\n",
       "      <th>1</th>\n",
       "      <td>3</td>\n",
       "      <td>1116</td>\n",
       "    </tr>\n",
       "    <tr>\n",
       "      <th>2</th>\n",
       "      <td>4</td>\n",
       "      <td>1125</td>\n",
       "    </tr>\n",
       "    <tr>\n",
       "      <th>3</th>\n",
       "      <td>5</td>\n",
       "      <td>1130</td>\n",
       "    </tr>\n",
       "    <tr>\n",
       "      <th>4</th>\n",
       "      <td>6</td>\n",
       "      <td>1122</td>\n",
       "    </tr>\n",
       "  </tbody>\n",
       "</table>\n",
       "</div>"
      ],
      "text/plain": [
       "   Day  Rating\n",
       "0    2    1115\n",
       "1    3    1116\n",
       "2    4    1125\n",
       "3    5    1130\n",
       "4    6    1122"
      ]
     },
     "execution_count": 21,
     "metadata": {},
     "output_type": "execute_result"
    }
   ],
   "source": [
    "g = df[df[\"Game type\"] == game_type]\n",
    "g = g.groupby(['Day'])[g.columns[g.columns == 'Rating']].max().reset_index()\n",
    "g.head()"
   ]
  },
  {
   "cell_type": "markdown",
   "metadata": {},
   "source": [
    "### Rating evolution: Daily average"
   ]
  },
  {
   "cell_type": "markdown",
   "metadata": {},
   "source": [
    "#### Rapid"
   ]
  },
  {
   "cell_type": "code",
   "execution_count": 22,
   "metadata": {},
   "outputs": [
    {
     "data": {
      "image/png": "[encoded data removed]",
      "text/plain": [
       "<Figure size 432x288 with 1 Axes>"
      ]
     },
     "metadata": {
      "needs_background": "light"
     },
     "output_type": "display_data"
    }
   ],
   "source": [
    "plt.plot(g['Day'], g['Rating'])\n",
    "plt.title(\"Rating evolution in December for game type: \" + game_type)\n",
    "plt.xlabel(\"Day of month\")\n",
    "plt.xticks(np.arange(min(g['Day']), max(g['Day'])+1, 1.0))\n",
    "plt.ylabel(\"Rating\")\n",
    "plt.show()"
   ]
  },
  {
   "cell_type": "markdown",
   "metadata": {},
   "source": [
    "#### Blitz"
   ]
  },
  {
   "cell_type": "code",
   "execution_count": 23,
   "metadata": {},
   "outputs": [
    {
     "data": {
      "image/png": "[encoded data removed]",
      "text/plain": [
       "<Figure size 432x288 with 1 Axes>"
      ]
     },
     "metadata": {
      "needs_background": "light"
     },
     "output_type": "display_data"
    }
   ],
   "source": [
    "game_type = \"Blitz\"\n",
    "g = df[df[\"Game type\"] == game_type]\n",
    "g = g.groupby(['Day'])[g.columns[g.columns == 'Rating']].max().reset_index()\n",
    "g.head()\n",
    "\n",
    "plt.plot(g['Day'], g['Rating'])\n",
    "plt.title(\"Rating evolution in December for game type: \" + game_type)\n",
    "plt.xlabel(\"Day of month\")\n",
    "plt.xticks(np.arange(min(g['Day']), max(g['Day'])+1, 1.0))\n",
    "plt.ylabel(\"Rating\")\n",
    "plt.show()"
   ]
  },
  {
   "cell_type": "markdown",
   "metadata": {},
   "source": [
    "### Analysing defeats"
   ]
  },
  {
   "cell_type": "markdown",
   "metadata": {},
   "source": [
    "### Game type: Rapid"
   ]
  },
  {
   "cell_type": "code",
   "execution_count": 24,
   "metadata": {},
   "outputs": [],
   "source": [
    "game_type = \"Rapid\""
   ]
  },
  {
   "cell_type": "code",
   "execution_count": 25,
   "metadata": {},
   "outputs": [],
   "source": [
    "df_rapid = df[df[\"Game type\"] == game_type]"
   ]
  },
  {
   "cell_type": "markdown",
   "metadata": {},
   "source": [
    "#### Checking wins and losses when playing black and white"
   ]
  },
  {
   "cell_type": "code",
   "execution_count": 26,
   "metadata": {},
   "outputs": [
    {
     "data": {
      "image/png": "[encoded data removed]",
      "text/plain": [
       "<Figure size 475.075x288 with 2 Axes>"
      ]
     },
     "metadata": {
      "needs_background": "light"
     },
     "output_type": "display_data"
    }
   ],
   "source": [
    "#clrs = ['blue' if x == \"White\" else 'black' for x in df_rapid['Color'] ]\n",
    "\n",
    "#ax = sns.countplot(x=\"Color\", hue = \"Time control\" , data=df_rapid[df_rapid[\"Result\"] == \"0-1\"]) only losses\n",
    "\n",
    "#percentage = lambda i: len(i) / float(len(x)) * 100\n",
    "\n",
    "\n",
    "ax = sns.catplot(x=\"Color\", hue=\"Result\", col=\"Time control\", \n",
    "                data=df_rapid, kind=\"count\",\n",
    "                height=4, aspect=.7)\n",
    "\n",
    "#ax.set(ylabel=\"Percent\")"
   ]
  },
  {
   "cell_type": "markdown",
   "metadata": {},
   "source": [
    "Calcular o percentual de vitórias / derrotas e mostrar em tabela e ordenar as barras (colocar as derrotas em vermelho)"
   ]
  },
  {
   "cell_type": "code",
   "execution_count": 27,
   "metadata": {},
   "outputs": [],
   "source": [
    "df_rapid_L = df_rapid[(df_rapid[\"Time control\"] == \"600\") & (df_rapid[\"Color\"] == \"Black\") & (df_rapid[\"Result\"] == \"0-1\")]"
   ]
  },
  {
   "cell_type": "code",
   "execution_count": 28,
   "metadata": {},
   "outputs": [
    {
     "data": {
      "text/plain": [
       "[]"
      ]
     },
     "execution_count": 28,
     "metadata": {},
     "output_type": "execute_result"
    },
    {
     "data": {
      "image/png": "[encoded data removed]",
      "text/plain": [
       "<Figure size 360x360 with 1 Axes>"
      ]
     },
     "metadata": {
      "needs_background": "light"
     },
     "output_type": "display_data"
    }
   ],
   "source": [
    "plt.figure(figsize=(5,5))\n",
    "ax = sns.countplot(y=\"Opening\", data = df_rapid_L,  order = df_rapid_L['Opening'].value_counts().iloc[:5].index)\n",
    "plt.xticks(rotation=90)\n",
    "plt.title('Most played openings as black when lost (top 5)', fontsize=12)\n",
    "ax.plot()\n"
   ]
  },
  {
   "cell_type": "markdown",
   "metadata": {},
   "source": [
    "The first opening is actually a delayed London System, which I knew by intuition I was having trouble against. Need to practice countering that (get that e5 going asap lol)"
   ]
  },
  {
   "cell_type": "code",
   "execution_count": 29,
   "metadata": {},
   "outputs": [],
   "source": [
    "a = df_rapid.groupby(\"Opening\")[\"Black player\"].count().sort_values(ascending = False).nlargest(5).reset_index()"
   ]
  },
  {
   "cell_type": "code",
   "execution_count": 30,
   "metadata": {},
   "outputs": [
    {
     "data": {
      "text/html": [
       "<div>\n",
       "<style scoped>\n",
       "    .dataframe tbody tr th:only-of-type {\n",
       "        vertical-align: middle;\n",
       "    }\n",
       "\n",
       "    .dataframe tbody tr th {\n",
       "        vertical-align: top;\n",
       "    }\n",
       "\n",
       "    .dataframe thead th {\n",
       "        text-align: right;\n",
       "    }\n",
       "</style>\n",
       "<table border=\"1\" class=\"dataframe\">\n",
       "  <thead>\n",
       "    <tr style=\"text-align: right;\">\n",
       "      <th></th>\n",
       "      <th>Opening</th>\n",
       "      <th>Games played</th>\n",
       "      <th>% losses</th>\n",
       "    </tr>\n",
       "  </thead>\n",
       "  <tbody>\n",
       "    <tr>\n",
       "      <th>0</th>\n",
       "      <td>Indian Game</td>\n",
       "      <td>10</td>\n",
       "      <td>0</td>\n",
       "    </tr>\n",
       "    <tr>\n",
       "      <th>1</th>\n",
       "      <td>Sicilian Defense 2.Nf3 d6</td>\n",
       "      <td>7</td>\n",
       "      <td>0</td>\n",
       "    </tr>\n",
       "    <tr>\n",
       "      <th>2</th>\n",
       "      <td>Queens Gambit Declined Marshall Defense</td>\n",
       "      <td>6</td>\n",
       "      <td>0</td>\n",
       "    </tr>\n",
       "    <tr>\n",
       "      <th>3</th>\n",
       "      <td>Italian Game Two Knights Modern Bishops Opening</td>\n",
       "      <td>5</td>\n",
       "      <td>0</td>\n",
       "    </tr>\n",
       "    <tr>\n",
       "      <th>4</th>\n",
       "      <td>Italian Game Anti Fried Liver Defense</td>\n",
       "      <td>4</td>\n",
       "      <td>0</td>\n",
       "    </tr>\n",
       "  </tbody>\n",
       "</table>\n",
       "</div>"
      ],
      "text/plain": [
       "                                           Opening  Games played  % losses\n",
       "0                                      Indian Game            10         0\n",
       "1                        Sicilian Defense 2.Nf3 d6             7         0\n",
       "2          Queens Gambit Declined Marshall Defense             6         0\n",
       "3  Italian Game Two Knights Modern Bishops Opening             5         0\n",
       "4            Italian Game Anti Fried Liver Defense             4         0"
      ]
     },
     "execution_count": 30,
     "metadata": {},
     "output_type": "execute_result"
    }
   ],
   "source": [
    "a = a.rename(columns={\"Black player\": \"Games played\"})\n",
    "\n",
    "a['% losses'] = 0\n",
    "\n",
    "a"
   ]
  },
  {
   "cell_type": "code",
   "execution_count": 31,
   "metadata": {},
   "outputs": [],
   "source": [
    "b = df_rapid_L.groupby(\"Opening\")[\"Black player\"].count().sort_values(ascending = False).nlargest(20)"
   ]
  },
  {
   "cell_type": "code",
   "execution_count": 32,
   "metadata": {},
   "outputs": [
    {
     "data": {
      "text/plain": [
       "['Indian Game',\n",
       " 'Sicilian Defense 2.Nf3 d6',\n",
       " 'Queens Gambit Declined Marshall Defense',\n",
       " 'Italian Game Two Knights Modern Bishops Opening',\n",
       " 'Italian Game Anti Fried Liver Defense']"
      ]
     },
     "execution_count": 32,
     "metadata": {},
     "output_type": "execute_result"
    }
   ],
   "source": [
    "openings = a.Opening.unique().tolist()\n",
    "openings"
   ]
  },
  {
   "cell_type": "code",
   "execution_count": 33,
   "metadata": {},
   "outputs": [],
   "source": [
    "a = a.set_index(\"Opening\")"
   ]
  },
  {
   "cell_type": "code",
   "execution_count": 34,
   "metadata": {},
   "outputs": [],
   "source": [
    "for i in openings:\n",
    "    try:\n",
    "        a.loc[i]['% losses'] = round(b.loc[i] / a.loc[i]['Games played']*100, 3)\n",
    "    except KeyError:\n",
    "        break"
   ]
  },
  {
   "cell_type": "code",
   "execution_count": 35,
   "metadata": {},
   "outputs": [
    {
     "data": {
      "text/html": [
       "<div>\n",
       "<style scoped>\n",
       "    .dataframe tbody tr th:only-of-type {\n",
       "        vertical-align: middle;\n",
       "    }\n",
       "\n",
       "    .dataframe tbody tr th {\n",
       "        vertical-align: top;\n",
       "    }\n",
       "\n",
       "    .dataframe thead th {\n",
       "        text-align: right;\n",
       "    }\n",
       "</style>\n",
       "<table border=\"1\" class=\"dataframe\">\n",
       "  <thead>\n",
       "    <tr style=\"text-align: right;\">\n",
       "      <th></th>\n",
       "      <th>Games played</th>\n",
       "      <th>% losses</th>\n",
       "    </tr>\n",
       "    <tr>\n",
       "      <th>Opening</th>\n",
       "      <th></th>\n",
       "      <th></th>\n",
       "    </tr>\n",
       "  </thead>\n",
       "  <tbody>\n",
       "    <tr>\n",
       "      <th>Indian Game</th>\n",
       "      <td>10</td>\n",
       "      <td>20</td>\n",
       "    </tr>\n",
       "    <tr>\n",
       "      <th>Sicilian Defense 2.Nf3 d6</th>\n",
       "      <td>7</td>\n",
       "      <td>28</td>\n",
       "    </tr>\n",
       "    <tr>\n",
       "      <th>Queens Gambit Declined Marshall Defense</th>\n",
       "      <td>6</td>\n",
       "      <td>66</td>\n",
       "    </tr>\n",
       "    <tr>\n",
       "      <th>Italian Game Two Knights Modern Bishops Opening</th>\n",
       "      <td>5</td>\n",
       "      <td>0</td>\n",
       "    </tr>\n",
       "    <tr>\n",
       "      <th>Italian Game Anti Fried Liver Defense</th>\n",
       "      <td>4</td>\n",
       "      <td>0</td>\n",
       "    </tr>\n",
       "  </tbody>\n",
       "</table>\n",
       "</div>"
      ],
      "text/plain": [
       "                                                 Games played  % losses\n",
       "Opening                                                                \n",
       "Indian Game                                                10        20\n",
       "Sicilian Defense 2.Nf3 d6                                   7        28\n",
       "Queens Gambit Declined Marshall Defense                     6        66\n",
       "Italian Game Two Knights Modern Bishops Opening             5         0\n",
       "Italian Game Anti Fried Liver Defense                       4         0"
      ]
     },
     "execution_count": 35,
     "metadata": {},
     "output_type": "execute_result"
    }
   ],
   "source": [
    "a"
   ]
  },
  {
   "cell_type": "code",
   "execution_count": 36,
   "metadata": {},
   "outputs": [],
   "source": [
    "a.loc['Indian Game']['% losses'] = 5"
   ]
  },
  {
   "cell_type": "code",
   "execution_count": 37,
   "metadata": {},
   "outputs": [
    {
     "data": {
      "image/png": "[encoded data removed]",
      "text/plain": [
       "<Figure size 720x720 with 1 Axes>"
      ]
     },
     "metadata": {
      "needs_background": "light"
     },
     "output_type": "display_data"
    }
   ],
   "source": [
    "plt.figure(figsize=(10,10))\n",
    "ax = sns.barplot(x=\"% losses\", y = 'Opening', data = a.reset_index(), order = a['Games played'].index)\n",
    "plt.xticks(rotation=90)\n",
    "ax.plot()\n",
    "\n",
    "plt.title('Most played openings as black (from top to bottom) and % losses in Rapid games' , fontsize=18)\n",
    "\n",
    "show_values_on_bars(ax, \"h\", 0.5)\n"
   ]
  },
  {
   "cell_type": "markdown",
   "metadata": {},
   "source": [
    "## Game type: Blitz (5' or 3')"
   ]
  },
  {
   "cell_type": "code",
   "execution_count": 38,
   "metadata": {},
   "outputs": [],
   "source": [
    "game_type = \"Blitz\"\n",
    "df_blitz = df[df[\"Game type\"] == game_type]"
   ]
  },
  {
   "cell_type": "code",
   "execution_count": 39,
   "metadata": {},
   "outputs": [
    {
     "data": {
      "image/png": "[encoded data removed]",
      "text/plain": [
       "<Figure size 676.675x288 with 3 Axes>"
      ]
     },
     "metadata": {
      "needs_background": "light"
     },
     "output_type": "display_data"
    }
   ],
   "source": [
    "ax = sns.catplot(x=\"Color\", hue=\"Result\", col=\"Time control\", \n",
    "                data=df_blitz, kind=\"count\",\n",
    "                height=4, aspect=.7)"
   ]
  },
  {
   "cell_type": "markdown",
   "metadata": {},
   "source": [
    "Surprisingly I have been losing more as white than black"
   ]
  },
  {
   "cell_type": "code",
   "execution_count": 40,
   "metadata": {},
   "outputs": [
    {
     "data": {
      "text/plain": [
       "[]"
      ]
     },
     "execution_count": 40,
     "metadata": {},
     "output_type": "execute_result"
    },
    {
     "data": {
      "image/png": "[encoded data removed]",
      "text/plain": [
       "<Figure size 720x720 with 1 Axes>"
      ]
     },
     "metadata": {
      "needs_background": "light"
     },
     "output_type": "display_data"
    }
   ],
   "source": [
    "df_blitz_300_L = df_blitz[(df_blitz[\"Time control\"] == \"300\") & (df_blitz[\"Color\"] == \"White\") & (df_blitz[\"Result\"] == \"0-1\")]\n",
    "\n",
    "plt.figure(figsize=(10,10))\n",
    "ax = sns.countplot(y=df_blitz_300_L[\"Opening\"], data = df_blitz_300_L,  order = df_blitz_300_L['Opening'].value_counts().iloc[:5].index)\n",
    "plt.xticks(rotation=90)\n",
    "plt.title('Most played openings as black when lost (top 5)', fontsize=12)\n",
    "ax.plot()\n"
   ]
  },
  {
   "cell_type": "markdown",
   "metadata": {},
   "source": [
    "Apparently gotta work on the Italian opening. Let's check the percentage of losses, that way we take into account how many times the opening was played"
   ]
  },
  {
   "cell_type": "code",
   "execution_count": 41,
   "metadata": {},
   "outputs": [],
   "source": [
    "df_blitz_300_W = df_blitz[(df_blitz[\"Time control\"] == \"300\") & (df_blitz[\"Color\"] == \"White\")]\n"
   ]
  },
  {
   "cell_type": "code",
   "execution_count": 42,
   "metadata": {},
   "outputs": [
    {
     "data": {
      "text/plain": [
       "Opening\n",
       "Italian Game Two Knights Modern Bishops Opening    7\n",
       "Italian Game                                       6\n",
       "Queens Gambit Accepted 3.Nc3                       6\n",
       "Italian Game Anti Fried Liver Defense              4\n",
       "Giuoco Piano Game 4.O O Nf6                        4\n",
       "Name: White player, dtype: int64"
      ]
     },
     "execution_count": 42,
     "metadata": {},
     "output_type": "execute_result"
    }
   ],
   "source": [
    "df_blitz_300_W.groupby(\"Opening\")[\"White player\"].count().sort_values(ascending = False).nlargest(5)"
   ]
  },
  {
   "cell_type": "code",
   "execution_count": 43,
   "metadata": {},
   "outputs": [
    {
     "name": "stdout",
     "output_type": "stream",
     "text": [
      "The most used opening used by itteram as White was Italian Game Two Knights Modern Bishops Opening and lost 5 games, 71.42857142857143 %\n"
     ]
    }
   ],
   "source": [
    "print(\"The most used opening used by {} as White was {} and lost {} games, {} %\".format(username, \n",
    "                                                                                        df_blitz_300_W.groupby(\"Opening\")[\"White player\"].count().sort_values(ascending = False).nlargest(5).reset_index()[\"Opening\"][0], \n",
    "                                                                                        df_blitz_300_L.groupby(\"Opening\")[\"White player\"].count().sort_values(ascending = False).nlargest(5)[0],\n",
    "                                                                                        ((df_blitz_300_L.groupby(\"Opening\")[\"White player\"].count().sort_values(ascending = False).nlargest(5)[0])/(df_blitz_300_W.groupby(\"Opening\")[\"White player\"].count().sort_values(ascending = False).nlargest(5)[0]))*100))\n",
    "\n"
   ]
  },
  {
   "cell_type": "code",
   "execution_count": 44,
   "metadata": {},
   "outputs": [
    {
     "name": "stdout",
     "output_type": "stream",
     "text": [
      "The second most used opening used by itteram as White was Italian Game and lost 4 games, 66.66666666666666 %\n"
     ]
    }
   ],
   "source": [
    "print(\"The second most used opening used by {} as White was {} and lost {} games, {} %\".format(username, \n",
    "                                                                                        df_blitz_300_W.groupby(\"Opening\")[\"White player\"].count().sort_values(ascending = False).nlargest(5).reset_index()[\"Opening\"][1], \n",
    "                                                                                        df_blitz_300_L.groupby(\"Opening\")[\"White player\"].count().sort_values(ascending = False).nlargest(5)[1],\n",
    "                                                                                        ((df_blitz_300_L.groupby(\"Opening\")[\"White player\"].count().sort_values(ascending = False).nlargest(5)[1])/(df_blitz_300_W.groupby(\"Opening\")[\"White player\"].count().sort_values(ascending = False).nlargest(5)[1]))*100))\n",
    "\n"
   ]
  },
  {
   "cell_type": "code",
   "execution_count": 45,
   "metadata": {},
   "outputs": [
    {
     "name": "stdout",
     "output_type": "stream",
     "text": [
      "When itteram as White played the Giuoco Piano Game 4.O O Nf6, lost 2 games out of 4, 50.0 %\n"
     ]
    }
   ],
   "source": [
    "print(\"When {} as White played the {}, lost {} games out of {}, {} %\".format(username, \n",
    "                                                                    df_blitz_300_W.groupby(\"Opening\")[\"White player\"].count().sort_values(ascending = False).nlargest(5).reset_index()[\"Opening\"][4], \n",
    "                                                                    df_blitz_300_L.groupby(\"Opening\")[\"White player\"].count().sort_values(ascending = False).nlargest(5)[4],\n",
    "                                                                    df_blitz_300_W.groupby(\"Opening\")[\"White player\"].count().sort_values(ascending = False).nlargest(5)[4],         \n",
    "                                                                    ((df_blitz_300_L.groupby(\"Opening\")[\"White player\"].count().sort_values(ascending = False).nlargest(5)[4])/(df_blitz_300_W.groupby(\"Opening\")[\"White player\"].count().sort_values(ascending = False).nlargest(5)[4]))*100))\n",
    "\n"
   ]
  },
  {
   "cell_type": "code",
   "execution_count": 46,
   "metadata": {},
   "outputs": [
    {
     "data": {
      "text/html": [
       "<div>\n",
       "<style scoped>\n",
       "    .dataframe tbody tr th:only-of-type {\n",
       "        vertical-align: middle;\n",
       "    }\n",
       "\n",
       "    .dataframe tbody tr th {\n",
       "        vertical-align: top;\n",
       "    }\n",
       "\n",
       "    .dataframe thead th {\n",
       "        text-align: right;\n",
       "    }\n",
       "</style>\n",
       "<table border=\"1\" class=\"dataframe\">\n",
       "  <thead>\n",
       "    <tr style=\"text-align: right;\">\n",
       "      <th></th>\n",
       "      <th>Opening</th>\n",
       "      <th>Games played</th>\n",
       "      <th>% losses</th>\n",
       "    </tr>\n",
       "  </thead>\n",
       "  <tbody>\n",
       "    <tr>\n",
       "      <th>0</th>\n",
       "      <td>Italian Game Two Knights Modern Bishops Opening</td>\n",
       "      <td>7</td>\n",
       "      <td>0</td>\n",
       "    </tr>\n",
       "    <tr>\n",
       "      <th>1</th>\n",
       "      <td>Italian Game</td>\n",
       "      <td>6</td>\n",
       "      <td>0</td>\n",
       "    </tr>\n",
       "    <tr>\n",
       "      <th>2</th>\n",
       "      <td>Queens Gambit Accepted 3.Nc3</td>\n",
       "      <td>6</td>\n",
       "      <td>0</td>\n",
       "    </tr>\n",
       "    <tr>\n",
       "      <th>3</th>\n",
       "      <td>Italian Game Anti Fried Liver Defense</td>\n",
       "      <td>4</td>\n",
       "      <td>0</td>\n",
       "    </tr>\n",
       "    <tr>\n",
       "      <th>4</th>\n",
       "      <td>Giuoco Piano Game 4.O O Nf6</td>\n",
       "      <td>4</td>\n",
       "      <td>0</td>\n",
       "    </tr>\n",
       "  </tbody>\n",
       "</table>\n",
       "</div>"
      ],
      "text/plain": [
       "                                           Opening  Games played  % losses\n",
       "0  Italian Game Two Knights Modern Bishops Opening             7         0\n",
       "1                                     Italian Game             6         0\n",
       "2                     Queens Gambit Accepted 3.Nc3             6         0\n",
       "3            Italian Game Anti Fried Liver Defense             4         0\n",
       "4                      Giuoco Piano Game 4.O O Nf6             4         0"
      ]
     },
     "execution_count": 46,
     "metadata": {},
     "output_type": "execute_result"
    }
   ],
   "source": [
    "a = df_blitz_300_W.groupby(\"Opening\")[\"White player\"].count().sort_values(ascending = False).nlargest(5).reset_index()\n",
    "\n",
    "a = a.rename(columns={\"White player\": \"Games played\"})\n",
    "\n",
    "a['% losses'] = 0\n",
    "\n",
    "a"
   ]
  },
  {
   "cell_type": "code",
   "execution_count": 47,
   "metadata": {},
   "outputs": [
    {
     "data": {
      "text/plain": [
       "['Italian Game Two Knights Modern Bishops Opening',\n",
       " 'Italian Game',\n",
       " 'Queens Gambit Accepted 3.Nc3',\n",
       " 'Italian Game Anti Fried Liver Defense',\n",
       " 'Giuoco Piano Game 4.O O Nf6']"
      ]
     },
     "execution_count": 47,
     "metadata": {},
     "output_type": "execute_result"
    }
   ],
   "source": [
    "openings = a[\"Opening\"].unique().tolist()\n",
    "openings"
   ]
  },
  {
   "cell_type": "code",
   "execution_count": 48,
   "metadata": {},
   "outputs": [],
   "source": [
    "a = a.set_index(\"Opening\")"
   ]
  },
  {
   "cell_type": "code",
   "execution_count": 49,
   "metadata": {},
   "outputs": [
    {
     "data": {
      "text/plain": [
       "0"
      ]
     },
     "execution_count": 49,
     "metadata": {},
     "output_type": "execute_result"
    }
   ],
   "source": [
    "a.loc['Italian Game']['% losses']"
   ]
  },
  {
   "cell_type": "code",
   "execution_count": 50,
   "metadata": {},
   "outputs": [
    {
     "data": {
      "text/plain": [
       "Opening\n",
       "Italian Game                                               5\n",
       "Italian Game Two Knights Modern Bishops Opening            4\n",
       "Queens Gambit Accepted 3.Nc3                               3\n",
       "Italian Game Anti Fried Liver Defense                      3\n",
       "Giuoco Piano Game Main Line Giuoco Pianissimo Variation    2\n",
       "Giuoco Piano Game 4.O O Nf6                                2\n",
       "Giuoco Piano Game Giuoco Pianissimo Variation 4...Nf6      2\n",
       "Queens Pawn Opening Horwitz Defense 2.c4                   2\n",
       "Reti Opening Tennison Gambit                               2\n",
       "Italian Game Two Knights Open 4...exd4                     1\n",
       "Name: White player, dtype: int64"
      ]
     },
     "execution_count": 50,
     "metadata": {},
     "output_type": "execute_result"
    }
   ],
   "source": [
    "b = df_blitz_300_L.groupby(\"Opening\")[\"White player\"].count().sort_values(ascending = False).nlargest(10)#.reset_index()\n",
    "\n",
    "b"
   ]
  },
  {
   "cell_type": "code",
   "execution_count": 51,
   "metadata": {},
   "outputs": [
    {
     "data": {
      "text/plain": [
       "5"
      ]
     },
     "execution_count": 51,
     "metadata": {},
     "output_type": "execute_result"
    }
   ],
   "source": [
    "b.loc['Italian Game']"
   ]
  },
  {
   "cell_type": "code",
   "execution_count": 52,
   "metadata": {},
   "outputs": [],
   "source": [
    "for i in openings:\n",
    "    try:\n",
    "        a.loc[i]['% losses'] = round(b.loc[i] / a.loc[i]['Games played']*100, 3)\n",
    "    except KeyError:\n",
    "        break"
   ]
  },
  {
   "cell_type": "code",
   "execution_count": 53,
   "metadata": {},
   "outputs": [
    {
     "data": {
      "text/html": [
       "<div>\n",
       "<style scoped>\n",
       "    .dataframe tbody tr th:only-of-type {\n",
       "        vertical-align: middle;\n",
       "    }\n",
       "\n",
       "    .dataframe tbody tr th {\n",
       "        vertical-align: top;\n",
       "    }\n",
       "\n",
       "    .dataframe thead th {\n",
       "        text-align: right;\n",
       "    }\n",
       "</style>\n",
       "<table border=\"1\" class=\"dataframe\">\n",
       "  <thead>\n",
       "    <tr style=\"text-align: right;\">\n",
       "      <th></th>\n",
       "      <th>Games played</th>\n",
       "      <th>% losses</th>\n",
       "    </tr>\n",
       "    <tr>\n",
       "      <th>Opening</th>\n",
       "      <th></th>\n",
       "      <th></th>\n",
       "    </tr>\n",
       "  </thead>\n",
       "  <tbody>\n",
       "    <tr>\n",
       "      <th>Italian Game Two Knights Modern Bishops Opening</th>\n",
       "      <td>7</td>\n",
       "      <td>57</td>\n",
       "    </tr>\n",
       "    <tr>\n",
       "      <th>Italian Game</th>\n",
       "      <td>6</td>\n",
       "      <td>83</td>\n",
       "    </tr>\n",
       "    <tr>\n",
       "      <th>Queens Gambit Accepted 3.Nc3</th>\n",
       "      <td>6</td>\n",
       "      <td>50</td>\n",
       "    </tr>\n",
       "    <tr>\n",
       "      <th>Italian Game Anti Fried Liver Defense</th>\n",
       "      <td>4</td>\n",
       "      <td>75</td>\n",
       "    </tr>\n",
       "    <tr>\n",
       "      <th>Giuoco Piano Game 4.O O Nf6</th>\n",
       "      <td>4</td>\n",
       "      <td>50</td>\n",
       "    </tr>\n",
       "  </tbody>\n",
       "</table>\n",
       "</div>"
      ],
      "text/plain": [
       "                                                 Games played  % losses\n",
       "Opening                                                                \n",
       "Italian Game Two Knights Modern Bishops Opening             7        57\n",
       "Italian Game                                                6        83\n",
       "Queens Gambit Accepted 3.Nc3                                6        50\n",
       "Italian Game Anti Fried Liver Defense                       4        75\n",
       "Giuoco Piano Game 4.O O Nf6                                 4        50"
      ]
     },
     "execution_count": 53,
     "metadata": {},
     "output_type": "execute_result"
    }
   ],
   "source": [
    "a"
   ]
  },
  {
   "cell_type": "code",
   "execution_count": 54,
   "metadata": {},
   "outputs": [
    {
     "data": {
      "image/png": "[encoded data removed]",
      "text/plain": [
       "<Figure size 720x720 with 1 Axes>"
      ]
     },
     "metadata": {
      "needs_background": "light"
     },
     "output_type": "display_data"
    }
   ],
   "source": [
    "plt.figure(figsize=(10,10))\n",
    "ax = sns.barplot(x=\"% losses\", y = 'Opening', data = a.reset_index(), order = a['Games played'].index)\n",
    "plt.xticks(rotation=90)\n",
    "ax.plot()\n",
    "\n",
    "plt.title('Most played openings as white (from top to bottom) and % losses', fontsize=18)\n",
    "\n",
    "show_values_on_bars(ax, \"h\", 0.5)\n",
    "\n"
   ]
  },
  {
   "cell_type": "markdown",
   "metadata": {},
   "source": [
    "### Generating table of games on specific opening for review"
   ]
  },
  {
   "cell_type": "code",
   "execution_count": 55,
   "metadata": {},
   "outputs": [],
   "source": [
    "opening = 'Italian Game'"
   ]
  },
  {
   "cell_type": "code",
   "execution_count": 56,
   "metadata": {},
   "outputs": [
    {
     "name": "stderr",
     "output_type": "stream",
     "text": [
      "/Users/lucasmaretti/opt/anaconda3/lib/python3.7/site-packages/ipykernel_launcher.py:1: UserWarning: Boolean Series key will be reindexed to match DataFrame index.\n",
      "  \"\"\"Entry point for launching an IPython kernel.\n"
     ]
    },
    {
     "data": {
      "text/html": [
       "<div>\n",
       "<style scoped>\n",
       "    .dataframe tbody tr th:only-of-type {\n",
       "        vertical-align: middle;\n",
       "    }\n",
       "\n",
       "    .dataframe tbody tr th {\n",
       "        vertical-align: top;\n",
       "    }\n",
       "\n",
       "    .dataframe thead th {\n",
       "        text-align: right;\n",
       "    }\n",
       "</style>\n",
       "<table border=\"1\" class=\"dataframe\">\n",
       "  <thead>\n",
       "    <tr style=\"text-align: right;\">\n",
       "      <th></th>\n",
       "      <th>White 1st move</th>\n",
       "      <th>Black 1st move</th>\n",
       "      <th>White first 2 moves</th>\n",
       "      <th>Black first 2 moves</th>\n",
       "      <th>White first 3 moves</th>\n",
       "      <th>Black first 3 moves</th>\n",
       "      <th>White first 4 moves</th>\n",
       "      <th>Black first 4 moves</th>\n",
       "      <th>First 4 moves</th>\n",
       "      <th>Date</th>\n",
       "      <th>Game type</th>\n",
       "      <th>Time control</th>\n",
       "      <th>Opening</th>\n",
       "      <th>White player</th>\n",
       "      <th>White player rating</th>\n",
       "      <th>Black player</th>\n",
       "      <th>Black player rating</th>\n",
       "      <th>Result</th>\n",
       "      <th>Year</th>\n",
       "      <th>Month</th>\n",
       "      <th>Day</th>\n",
       "      <th>Rating</th>\n",
       "      <th>Color</th>\n",
       "    </tr>\n",
       "  </thead>\n",
       "  <tbody>\n",
       "    <tr>\n",
       "      <th>67</th>\n",
       "      <td>['e4']</td>\n",
       "      <td>['e5']</td>\n",
       "      <td>['e4', 'Nf3']</td>\n",
       "      <td>['e5', 'Nc6']</td>\n",
       "      <td>['e4', 'Nf3', 'Bc4']</td>\n",
       "      <td>['e5', 'Nc6', 'f6']</td>\n",
       "      <td>['e4', 'Nf3', 'Bc4', 'O-O']</td>\n",
       "      <td>['e5', 'Nc6', 'f6', 'Nge7']</td>\n",
       "      <td>[1. e4 e5, 2. Nf3 Nc6, 3. Bc4 f6, 4. O-O Nge7,...</td>\n",
       "      <td>2020-12-10</td>\n",
       "      <td>Blitz</td>\n",
       "      <td>300</td>\n",
       "      <td>Italian Game</td>\n",
       "      <td>itteram</td>\n",
       "      <td>892</td>\n",
       "      <td>otto88</td>\n",
       "      <td>862</td>\n",
       "      <td>0-1</td>\n",
       "      <td>2020</td>\n",
       "      <td>12</td>\n",
       "      <td>10</td>\n",
       "      <td>892</td>\n",
       "      <td>White</td>\n",
       "    </tr>\n",
       "    <tr>\n",
       "      <th>212</th>\n",
       "      <td>['e4']</td>\n",
       "      <td>['e5']</td>\n",
       "      <td>['e4', 'Nf3']</td>\n",
       "      <td>['e5', 'Nc6']</td>\n",
       "      <td>['e4', 'Nf3', 'Bc4']</td>\n",
       "      <td>['e5', 'Nc6', 'd5']</td>\n",
       "      <td>['e4', 'Nf3', 'Bc4', 'exd5']</td>\n",
       "      <td>['e5', 'Nc6', 'd5', 'Nd4']</td>\n",
       "      <td>[1. e4 e5, 2. Nf3 Nc6, 3. Bc4 d5, 4. exd5 Nd4,...</td>\n",
       "      <td>2020-12-22</td>\n",
       "      <td>Blitz</td>\n",
       "      <td>300</td>\n",
       "      <td>Italian Game</td>\n",
       "      <td>itteram</td>\n",
       "      <td>901</td>\n",
       "      <td>HananZaguri</td>\n",
       "      <td>942</td>\n",
       "      <td>0-1</td>\n",
       "      <td>2020</td>\n",
       "      <td>12</td>\n",
       "      <td>22</td>\n",
       "      <td>901</td>\n",
       "      <td>White</td>\n",
       "    </tr>\n",
       "    <tr>\n",
       "      <th>237</th>\n",
       "      <td>['e4']</td>\n",
       "      <td>['e5']</td>\n",
       "      <td>['e4', 'Nf3']</td>\n",
       "      <td>['e5', 'Nc6']</td>\n",
       "      <td>['e4', 'Nf3', 'Bc4']</td>\n",
       "      <td>['e5', 'Nc6', 'd6']</td>\n",
       "      <td>['e4', 'Nf3', 'Bc4', 'c3']</td>\n",
       "      <td>['e5', 'Nc6', 'd6', 'Bg4']</td>\n",
       "      <td>[1. e4 e5, 2. Nf3 Nc6, 3. Bc4 d6, 4. c3 Bg4, [...</td>\n",
       "      <td>2020-12-23</td>\n",
       "      <td>Blitz</td>\n",
       "      <td>300</td>\n",
       "      <td>Italian Game</td>\n",
       "      <td>itteram</td>\n",
       "      <td>893</td>\n",
       "      <td>hedgehog_bishop</td>\n",
       "      <td>846</td>\n",
       "      <td>0-1</td>\n",
       "      <td>2020</td>\n",
       "      <td>12</td>\n",
       "      <td>23</td>\n",
       "      <td>893</td>\n",
       "      <td>White</td>\n",
       "    </tr>\n",
       "    <tr>\n",
       "      <th>294</th>\n",
       "      <td>['e4']</td>\n",
       "      <td>['e5']</td>\n",
       "      <td>['e4', 'Nf3']</td>\n",
       "      <td>['e5', 'Nc6']</td>\n",
       "      <td>['e4', 'Nf3', 'Bc4']</td>\n",
       "      <td>['e5', 'Nc6', 'f6']</td>\n",
       "      <td>['e4', 'Nf3', 'Bc4', 'c3']</td>\n",
       "      <td>['e5', 'Nc6', 'f6', 'a6']</td>\n",
       "      <td>[1. e4 e5, 2. Nf3 Nc6, 3. Bc4 f6, 4. c3 a6, [....</td>\n",
       "      <td>2020-12-26</td>\n",
       "      <td>Blitz</td>\n",
       "      <td>300</td>\n",
       "      <td>Italian Game</td>\n",
       "      <td>itteram</td>\n",
       "      <td>871</td>\n",
       "      <td>DarkFighter42</td>\n",
       "      <td>912</td>\n",
       "      <td>0-1</td>\n",
       "      <td>2020</td>\n",
       "      <td>12</td>\n",
       "      <td>26</td>\n",
       "      <td>871</td>\n",
       "      <td>White</td>\n",
       "    </tr>\n",
       "    <tr>\n",
       "      <th>318</th>\n",
       "      <td>['e4']</td>\n",
       "      <td>['e5']</td>\n",
       "      <td>['e4', 'Nf3']</td>\n",
       "      <td>['e5', 'Nc6']</td>\n",
       "      <td>['e4', 'Nf3', 'Bc4']</td>\n",
       "      <td>['e5', 'Nc6', 'd6']</td>\n",
       "      <td>['e4', 'Nf3', 'Bc4', 'c3']</td>\n",
       "      <td>['e5', 'Nc6', 'd6', 'Nf6']</td>\n",
       "      <td>[1. e4 e5, 2. Nf3 Nc6, 3. Bc4 d6, 4. c3 Nf6, [...</td>\n",
       "      <td>2020-12-28</td>\n",
       "      <td>Blitz</td>\n",
       "      <td>300</td>\n",
       "      <td>Italian Game</td>\n",
       "      <td>itteram</td>\n",
       "      <td>864</td>\n",
       "      <td>funk61</td>\n",
       "      <td>901</td>\n",
       "      <td>0-1</td>\n",
       "      <td>2020</td>\n",
       "      <td>12</td>\n",
       "      <td>28</td>\n",
       "      <td>864</td>\n",
       "      <td>White</td>\n",
       "    </tr>\n",
       "  </tbody>\n",
       "</table>\n",
       "</div>"
      ],
      "text/plain": [
       "    White 1st move Black 1st move White first 2 moves Black first 2 moves  \\\n",
       "67          ['e4']         ['e5']       ['e4', 'Nf3']       ['e5', 'Nc6']   \n",
       "212         ['e4']         ['e5']       ['e4', 'Nf3']       ['e5', 'Nc6']   \n",
       "237         ['e4']         ['e5']       ['e4', 'Nf3']       ['e5', 'Nc6']   \n",
       "294         ['e4']         ['e5']       ['e4', 'Nf3']       ['e5', 'Nc6']   \n",
       "318         ['e4']         ['e5']       ['e4', 'Nf3']       ['e5', 'Nc6']   \n",
       "\n",
       "      White first 3 moves  Black first 3 moves           White first 4 moves  \\\n",
       "67   ['e4', 'Nf3', 'Bc4']  ['e5', 'Nc6', 'f6']   ['e4', 'Nf3', 'Bc4', 'O-O']   \n",
       "212  ['e4', 'Nf3', 'Bc4']  ['e5', 'Nc6', 'd5']  ['e4', 'Nf3', 'Bc4', 'exd5']   \n",
       "237  ['e4', 'Nf3', 'Bc4']  ['e5', 'Nc6', 'd6']    ['e4', 'Nf3', 'Bc4', 'c3']   \n",
       "294  ['e4', 'Nf3', 'Bc4']  ['e5', 'Nc6', 'f6']    ['e4', 'Nf3', 'Bc4', 'c3']   \n",
       "318  ['e4', 'Nf3', 'Bc4']  ['e5', 'Nc6', 'd6']    ['e4', 'Nf3', 'Bc4', 'c3']   \n",
       "\n",
       "             Black first 4 moves  \\\n",
       "67   ['e5', 'Nc6', 'f6', 'Nge7']   \n",
       "212   ['e5', 'Nc6', 'd5', 'Nd4']   \n",
       "237   ['e5', 'Nc6', 'd6', 'Bg4']   \n",
       "294    ['e5', 'Nc6', 'f6', 'a6']   \n",
       "318   ['e5', 'Nc6', 'd6', 'Nf6']   \n",
       "\n",
       "                                         First 4 moves       Date Game type  \\\n",
       "67   [1. e4 e5, 2. Nf3 Nc6, 3. Bc4 f6, 4. O-O Nge7,... 2020-12-10     Blitz   \n",
       "212  [1. e4 e5, 2. Nf3 Nc6, 3. Bc4 d5, 4. exd5 Nd4,... 2020-12-22     Blitz   \n",
       "237  [1. e4 e5, 2. Nf3 Nc6, 3. Bc4 d6, 4. c3 Bg4, [... 2020-12-23     Blitz   \n",
       "294  [1. e4 e5, 2. Nf3 Nc6, 3. Bc4 f6, 4. c3 a6, [.... 2020-12-26     Blitz   \n",
       "318  [1. e4 e5, 2. Nf3 Nc6, 3. Bc4 d6, 4. c3 Nf6, [... 2020-12-28     Blitz   \n",
       "\n",
       "    Time control       Opening White player  White player rating  \\\n",
       "67           300  Italian Game      itteram                  892   \n",
       "212          300  Italian Game      itteram                  901   \n",
       "237          300  Italian Game      itteram                  893   \n",
       "294          300  Italian Game      itteram                  871   \n",
       "318          300  Italian Game      itteram                  864   \n",
       "\n",
       "        Black player  Black player rating Result  Year  Month  Day  Rating  \\\n",
       "67            otto88                  862    0-1  2020     12   10     892   \n",
       "212      HananZaguri                  942    0-1  2020     12   22     901   \n",
       "237  hedgehog_bishop                  846    0-1  2020     12   23     893   \n",
       "294    DarkFighter42                  912    0-1  2020     12   26     871   \n",
       "318           funk61                  901    0-1  2020     12   28     864   \n",
       "\n",
       "     Color  \n",
       "67   White  \n",
       "212  White  \n",
       "237  White  \n",
       "294  White  \n",
       "318  White  "
      ]
     },
     "execution_count": 56,
     "metadata": {},
     "output_type": "execute_result"
    }
   ],
   "source": [
    "games = df_blitz_300_W[(df_blitz_300_W[\"Opening\"] == opening) & (df_blitz[\"Result\"] == \"0-1\")]\n",
    "\n",
    "games\n"
   ]
  },
  {
   "cell_type": "code",
   "execution_count": 57,
   "metadata": {},
   "outputs": [
    {
     "name": "stdout",
     "output_type": "stream",
     "text": [
      "[1. e4 e5, 2. Nf3 Nc6, 3. Bc4 d5, 4. exd5 Nd4, [...]]\n"
     ]
    }
   ],
   "source": [
    "print(games.iloc[1]['First 4 moves'], flush = True)"
   ]
  },
  {
   "cell_type": "markdown",
   "metadata": {},
   "source": [
    "On a side note, there's also a cool package called chess where you can plot a chess board on the notebook by passing a pgn string"
   ]
  },
  {
   "cell_type": "code",
   "execution_count": 58,
   "metadata": {},
   "outputs": [
    {
     "data": {
      "image/svg+xml": [
       "<svg height=\"390\" version=\"1.1\" viewBox=\"0 0 390 390\" width=\"390\" xmlns=\"http://www.w3.org/2000/svg\" xmlns:xlink=\"http://www.w3.org/1999/xlink\"><defs><g class=\"white pawn\" id=\"white-pawn\"><path d=\"M22 9c-2.21 0-4 1.79-4 4 0 .89.29 1.71.78 2.38-1.95 1.12-3.28 3.21-3.28 5.62 0 2.03.94 3.84 2.41 5.03-3 1.06-7.41 5.55-7.41 13.47h23c0-7.92-4.41-12.41-7.41-13.47 1.47-1.19 2.41-3 2.41-5.03 0-2.41-1.33-4.5-3.28-5.62.49-.67.78-1.49.78-2.38 0-2.21-1.79-4-4-4z\" fill=\"#fff\" stroke=\"#000\" stroke-linecap=\"round\" stroke-width=\"1.5\" /></g><g class=\"white knight\" fill=\"none\" fill-rule=\"evenodd\" id=\"white-knight\" stroke=\"#000\" stroke-linecap=\"round\" stroke-linejoin=\"round\" stroke-width=\"1.5\"><path d=\"M 22,10 C 32.5,11 38.5,18 38,39 L 15,39 C 15,30 25,32.5 23,18\" style=\"fill:#ffffff; stroke:#000000;\" /><path d=\"M 24,18 C 24.38,20.91 18.45,25.37 16,27 C 13,29 13.18,31.34 11,31 C 9.958,30.06 12.41,27.96 11,28 C 10,28 11.19,29.23 10,30 C 9,30 5.997,31 6,26 C 6,24 12,14 12,14 C 12,14 13.89,12.1 14,10.5 C 13.27,9.506 13.5,8.5 13.5,7.5 C 14.5,6.5 16.5,10 16.5,10 L 18.5,10 C 18.5,10 19.28,8.008 21,7 C 22,7 22,10 22,10\" style=\"fill:#ffffff; stroke:#000000;\" /><path d=\"M 9.5 25.5 A 0.5 0.5 0 1 1 8.5,25.5 A 0.5 0.5 0 1 1 9.5 25.5 z\" style=\"fill:#000000; stroke:#000000;\" /><path d=\"M 15 15.5 A 0.5 1.5 0 1 1 14,15.5 A 0.5 1.5 0 1 1 15 15.5 z\" style=\"fill:#000000; stroke:#000000;\" transform=\"matrix(0.866,0.5,-0.5,0.866,9.693,-5.173)\" /></g><g class=\"white bishop\" fill=\"none\" fill-rule=\"evenodd\" id=\"white-bishop\" stroke=\"#000\" stroke-linecap=\"round\" stroke-linejoin=\"round\" stroke-width=\"1.5\"><g fill=\"#fff\" stroke-linecap=\"butt\"><path d=\"M9 36c3.39-.97 10.11.43 13.5-2 3.39 2.43 10.11 1.03 13.5 2 0 0 1.65.54 3 2-.68.97-1.65.99-3 .5-3.39-.97-10.11.46-13.5-1-3.39 1.46-10.11.03-13.5 1-1.354.49-2.323.47-3-.5 1.354-1.94 3-2 3-2zM15 32c2.5 2.5 12.5 2.5 15 0 .5-1.5 0-2 0-2 0-2.5-2.5-4-2.5-4 5.5-1.5 6-11.5-5-15.5-11 4-10.5 14-5 15.5 0 0-2.5 1.5-2.5 4 0 0-.5.5 0 2zM25 8a2.5 2.5 0 1 1-5 0 2.5 2.5 0 1 1 5 0z\" /></g><path d=\"M17.5 26h10M15 30h15m-7.5-14.5v5M20 18h5\" stroke-linejoin=\"miter\" /></g><g class=\"white rook\" fill=\"#fff\" fill-rule=\"evenodd\" id=\"white-rook\" stroke=\"#000\" stroke-linecap=\"round\" stroke-linejoin=\"round\" stroke-width=\"1.5\"><path d=\"M9 39h27v-3H9v3zM12 36v-4h21v4H12zM11 14V9h4v2h5V9h5v2h5V9h4v5\" stroke-linecap=\"butt\" /><path d=\"M34 14l-3 3H14l-3-3\" /><path d=\"M31 17v12.5H14V17\" stroke-linecap=\"butt\" stroke-linejoin=\"miter\" /><path d=\"M31 29.5l1.5 2.5h-20l1.5-2.5\" /><path d=\"M11 14h23\" fill=\"none\" stroke-linejoin=\"miter\" /></g><g class=\"white queen\" fill=\"#fff\" fill-rule=\"evenodd\" id=\"white-queen\" stroke=\"#000\" stroke-linecap=\"round\" stroke-linejoin=\"round\" stroke-width=\"1.5\"><path d=\"M8 12a2 2 0 1 1-4 0 2 2 0 1 1 4 0zM24.5 7.5a2 2 0 1 1-4 0 2 2 0 1 1 4 0zM41 12a2 2 0 1 1-4 0 2 2 0 1 1 4 0zM16 8.5a2 2 0 1 1-4 0 2 2 0 1 1 4 0zM33 9a2 2 0 1 1-4 0 2 2 0 1 1 4 0z\" /><path d=\"M9 26c8.5-1.5 21-1.5 27 0l2-12-7 11V11l-5.5 13.5-3-15-3 15-5.5-14V25L7 14l2 12zM9 26c0 2 1.5 2 2.5 4 1 1.5 1 1 .5 3.5-1.5 1-1.5 2.5-1.5 2.5-1.5 1.5.5 2.5.5 2.5 6.5 1 16.5 1 23 0 0 0 1.5-1 0-2.5 0 0 .5-1.5-1-2.5-.5-2.5-.5-2 .5-3.5 1-2 2.5-2 2.5-4-8.5-1.5-18.5-1.5-27 0z\" stroke-linecap=\"butt\" /><path d=\"M11.5 30c3.5-1 18.5-1 22 0M12 33.5c6-1 15-1 21 0\" fill=\"none\" /></g><g class=\"white king\" fill=\"none\" fill-rule=\"evenodd\" id=\"white-king\" stroke=\"#000\" stroke-linecap=\"round\" stroke-linejoin=\"round\" stroke-width=\"1.5\"><path d=\"M22.5 11.63V6M20 8h5\" stroke-linejoin=\"miter\" /><path d=\"M22.5 25s4.5-7.5 3-10.5c0 0-1-2.5-3-2.5s-3 2.5-3 2.5c-1.5 3 3 10.5 3 10.5\" fill=\"#fff\" stroke-linecap=\"butt\" stroke-linejoin=\"miter\" /><path d=\"M11.5 37c5.5 3.5 15.5 3.5 21 0v-7s9-4.5 6-10.5c-4-6.5-13.5-3.5-16 4V27v-3.5c-3.5-7.5-13-10.5-16-4-3 6 5 10 5 10V37z\" fill=\"#fff\" /><path d=\"M11.5 30c5.5-3 15.5-3 21 0m-21 3.5c5.5-3 15.5-3 21 0m-21 3.5c5.5-3 15.5-3 21 0\" /></g><g class=\"black pawn\" id=\"black-pawn\"><path d=\"M22 9c-2.21 0-4 1.79-4 4 0 .89.29 1.71.78 2.38-1.95 1.12-3.28 3.21-3.28 5.62 0 2.03.94 3.84 2.41 5.03-3 1.06-7.41 5.55-7.41 13.47h23c0-7.92-4.41-12.41-7.41-13.47 1.47-1.19 2.41-3 2.41-5.03 0-2.41-1.33-4.5-3.28-5.62.49-.67.78-1.49.78-2.38 0-2.21-1.79-4-4-4z\" stroke=\"#000\" stroke-linecap=\"round\" stroke-width=\"1.5\" /></g><g class=\"black knight\" fill=\"none\" fill-rule=\"evenodd\" id=\"black-knight\" stroke=\"#000\" stroke-linecap=\"round\" stroke-linejoin=\"round\" stroke-width=\"1.5\"><path d=\"M 22,10 C 32.5,11 38.5,18 38,39 L 15,39 C 15,30 25,32.5 23,18\" style=\"fill:#000000; stroke:#000000;\" /><path d=\"M 24,18 C 24.38,20.91 18.45,25.37 16,27 C 13,29 13.18,31.34 11,31 C 9.958,30.06 12.41,27.96 11,28 C 10,28 11.19,29.23 10,30 C 9,30 5.997,31 6,26 C 6,24 12,14 12,14 C 12,14 13.89,12.1 14,10.5 C 13.27,9.506 13.5,8.5 13.5,7.5 C 14.5,6.5 16.5,10 16.5,10 L 18.5,10 C 18.5,10 19.28,8.008 21,7 C 22,7 22,10 22,10\" style=\"fill:#000000; stroke:#000000;\" /><path d=\"M 9.5 25.5 A 0.5 0.5 0 1 1 8.5,25.5 A 0.5 0.5 0 1 1 9.5 25.5 z\" style=\"fill:#ececec; stroke:#ececec;\" /><path d=\"M 15 15.5 A 0.5 1.5 0 1 1 14,15.5 A 0.5 1.5 0 1 1 15 15.5 z\" style=\"fill:#ececec; stroke:#ececec;\" transform=\"matrix(0.866,0.5,-0.5,0.866,9.693,-5.173)\" /><path d=\"M 24.55,10.4 L 24.1,11.85 L 24.6,12 C 27.75,13 30.25,14.49 32.5,18.75 C 34.75,23.01 35.75,29.06 35.25,39 L 35.2,39.5 L 37.45,39.5 L 37.5,39 C 38,28.94 36.62,22.15 34.25,17.66 C 31.88,13.17 28.46,11.02 25.06,10.5 L 24.55,10.4 z \" style=\"fill:#ececec; stroke:none;\" /></g><g class=\"black bishop\" fill=\"none\" fill-rule=\"evenodd\" id=\"black-bishop\" stroke=\"#000\" stroke-linecap=\"round\" stroke-linejoin=\"round\" stroke-width=\"1.5\"><path d=\"M9 36c3.39-.97 10.11.43 13.5-2 3.39 2.43 10.11 1.03 13.5 2 0 0 1.65.54 3 2-.68.97-1.65.99-3 .5-3.39-.97-10.11.46-13.5-1-3.39 1.46-10.11.03-13.5 1-1.354.49-2.323.47-3-.5 1.354-1.94 3-2 3-2zm6-4c2.5 2.5 12.5 2.5 15 0 .5-1.5 0-2 0-2 0-2.5-2.5-4-2.5-4 5.5-1.5 6-11.5-5-15.5-11 4-10.5 14-5 15.5 0 0-2.5 1.5-2.5 4 0 0-.5.5 0 2zM25 8a2.5 2.5 0 1 1-5 0 2.5 2.5 0 1 1 5 0z\" fill=\"#000\" stroke-linecap=\"butt\" /><path d=\"M17.5 26h10M15 30h15m-7.5-14.5v5M20 18h5\" stroke=\"#fff\" stroke-linejoin=\"miter\" /></g><g class=\"black rook\" fill=\"#000\" fill-rule=\"evenodd\" id=\"black-rook\" stroke=\"#000\" stroke-linecap=\"round\" stroke-linejoin=\"round\" stroke-width=\"1.5\"><path d=\"M9 39h27v-3H9v3zM12.5 32l1.5-2.5h17l1.5 2.5h-20zM12 36v-4h21v4H12z\" stroke-linecap=\"butt\" /><path d=\"M14 29.5v-13h17v13H14z\" stroke-linecap=\"butt\" stroke-linejoin=\"miter\" /><path d=\"M14 16.5L11 14h23l-3 2.5H14zM11 14V9h4v2h5V9h5v2h5V9h4v5H11z\" stroke-linecap=\"butt\" /><path d=\"M12 35.5h21M13 31.5h19M14 29.5h17M14 16.5h17M11 14h23\" fill=\"none\" stroke=\"#fff\" stroke-linejoin=\"miter\" stroke-width=\"1\" /></g><g class=\"black queen\" fill=\"#000\" fill-rule=\"evenodd\" id=\"black-queen\" stroke=\"#000\" stroke-linecap=\"round\" stroke-linejoin=\"round\" stroke-width=\"1.5\"><g fill=\"#000\" stroke=\"none\"><circle cx=\"6\" cy=\"12\" r=\"2.75\" /><circle cx=\"14\" cy=\"9\" r=\"2.75\" /><circle cx=\"22.5\" cy=\"8\" r=\"2.75\" /><circle cx=\"31\" cy=\"9\" r=\"2.75\" /><circle cx=\"39\" cy=\"12\" r=\"2.75\" /></g><path d=\"M9 26c8.5-1.5 21-1.5 27 0l2.5-12.5L31 25l-.3-14.1-5.2 13.6-3-14.5-3 14.5-5.2-13.6L14 25 6.5 13.5 9 26zM9 26c0 2 1.5 2 2.5 4 1 1.5 1 1 .5 3.5-1.5 1-1.5 2.5-1.5 2.5-1.5 1.5.5 2.5.5 2.5 6.5 1 16.5 1 23 0 0 0 1.5-1 0-2.5 0 0 .5-1.5-1-2.5-.5-2.5-.5-2 .5-3.5 1-2 2.5-2 2.5-4-8.5-1.5-18.5-1.5-27 0z\" stroke-linecap=\"butt\" /><path d=\"M11 38.5a35 35 1 0 0 23 0\" fill=\"none\" stroke-linecap=\"butt\" /><path d=\"M11 29a35 35 1 0 1 23 0M12.5 31.5h20M11.5 34.5a35 35 1 0 0 22 0M10.5 37.5a35 35 1 0 0 24 0\" fill=\"none\" stroke=\"#fff\" /></g><g class=\"black king\" fill=\"none\" fill-rule=\"evenodd\" id=\"black-king\" stroke=\"#000\" stroke-linecap=\"round\" stroke-linejoin=\"round\" stroke-width=\"1.5\"><path d=\"M22.5 11.63V6\" stroke-linejoin=\"miter\" /><path d=\"M22.5 25s4.5-7.5 3-10.5c0 0-1-2.5-3-2.5s-3 2.5-3 2.5c-1.5 3 3 10.5 3 10.5\" fill=\"#000\" stroke-linecap=\"butt\" stroke-linejoin=\"miter\" /><path d=\"M11.5 37c5.5 3.5 15.5 3.5 21 0v-7s9-4.5 6-10.5c-4-6.5-13.5-3.5-16 4V27v-3.5c-3.5-7.5-13-10.5-16-4-3 6 5 10 5 10V37z\" fill=\"#000\" /><path d=\"M20 8h5\" stroke-linejoin=\"miter\" /><path d=\"M32 29.5s8.5-4 6.03-9.65C34.15 14 25 18 22.5 24.5l.01 2.1-.01-2.1C20 18 9.906 14 6.997 19.85c-2.497 5.65 4.853 9 4.853 9M11.5 30c5.5-3 15.5-3 21 0m-21 3.5c5.5-3 15.5-3 21 0m-21 3.5c5.5-3 15.5-3 21 0\" stroke=\"#fff\" /></g></defs><rect fill=\"#212121\" height=\"390\" width=\"390\" x=\"0\" y=\"0\" /><rect class=\"square dark a1\" fill=\"#d18b47\" height=\"45\" stroke=\"none\" width=\"45\" x=\"15\" y=\"330\" /><use transform=\"translate(15, 330)\" xlink:href=\"#white-rook\" /><rect class=\"square light b1\" fill=\"#ffce9e\" height=\"45\" stroke=\"none\" width=\"45\" x=\"60\" y=\"330\" /><use transform=\"translate(60, 330)\" xlink:href=\"#white-knight\" /><rect class=\"square dark c1\" fill=\"#d18b47\" height=\"45\" stroke=\"none\" width=\"45\" x=\"105\" y=\"330\" /><use transform=\"translate(105, 330)\" xlink:href=\"#white-bishop\" /><rect class=\"square light d1\" fill=\"#ffce9e\" height=\"45\" stroke=\"none\" width=\"45\" x=\"150\" y=\"330\" /><use transform=\"translate(150, 330)\" xlink:href=\"#white-queen\" /><rect class=\"square dark e1\" fill=\"#d18b47\" height=\"45\" stroke=\"none\" width=\"45\" x=\"195\" y=\"330\" /><use transform=\"translate(195, 330)\" xlink:href=\"#white-king\" /><rect class=\"square light f1\" fill=\"#ffce9e\" height=\"45\" stroke=\"none\" width=\"45\" x=\"240\" y=\"330\" /><rect class=\"square dark g1\" fill=\"#d18b47\" height=\"45\" stroke=\"none\" width=\"45\" x=\"285\" y=\"330\" /><rect class=\"square light h1\" fill=\"#ffce9e\" height=\"45\" stroke=\"none\" width=\"45\" x=\"330\" y=\"330\" /><use transform=\"translate(330, 330)\" xlink:href=\"#white-rook\" /><rect class=\"square light a2\" fill=\"#ffce9e\" height=\"45\" stroke=\"none\" width=\"45\" x=\"15\" y=\"285\" /><use transform=\"translate(15, 285)\" xlink:href=\"#white-pawn\" /><rect class=\"square dark b2\" fill=\"#d18b47\" height=\"45\" stroke=\"none\" width=\"45\" x=\"60\" y=\"285\" /><use transform=\"translate(60, 285)\" xlink:href=\"#white-pawn\" /><rect class=\"square light c2\" fill=\"#ffce9e\" height=\"45\" stroke=\"none\" width=\"45\" x=\"105\" y=\"285\" /><use transform=\"translate(105, 285)\" xlink:href=\"#white-pawn\" /><rect class=\"square dark d2\" fill=\"#d18b47\" height=\"45\" stroke=\"none\" width=\"45\" x=\"150\" y=\"285\" /><use transform=\"translate(150, 285)\" xlink:href=\"#white-pawn\" /><rect class=\"square light e2\" fill=\"#ffce9e\" height=\"45\" stroke=\"none\" width=\"45\" x=\"195\" y=\"285\" /><rect class=\"square dark f2\" fill=\"#d18b47\" height=\"45\" stroke=\"none\" width=\"45\" x=\"240\" y=\"285\" /><use transform=\"translate(240, 285)\" xlink:href=\"#white-pawn\" /><rect class=\"square light g2\" fill=\"#ffce9e\" height=\"45\" stroke=\"none\" width=\"45\" x=\"285\" y=\"285\" /><use transform=\"translate(285, 285)\" xlink:href=\"#white-pawn\" /><rect class=\"square dark h2\" fill=\"#d18b47\" height=\"45\" stroke=\"none\" width=\"45\" x=\"330\" y=\"285\" /><use transform=\"translate(330, 285)\" xlink:href=\"#white-pawn\" /><rect class=\"square dark a3\" fill=\"#d18b47\" height=\"45\" stroke=\"none\" width=\"45\" x=\"15\" y=\"240\" /><rect class=\"square light b3\" fill=\"#ffce9e\" height=\"45\" stroke=\"none\" width=\"45\" x=\"60\" y=\"240\" /><rect class=\"square dark c3\" fill=\"#d18b47\" height=\"45\" stroke=\"none\" width=\"45\" x=\"105\" y=\"240\" /><rect class=\"square light d3\" fill=\"#ffce9e\" height=\"45\" stroke=\"none\" width=\"45\" x=\"150\" y=\"240\" /><rect class=\"square dark e3\" fill=\"#d18b47\" height=\"45\" stroke=\"none\" width=\"45\" x=\"195\" y=\"240\" /><rect class=\"square light f3\" fill=\"#ffce9e\" height=\"45\" stroke=\"none\" width=\"45\" x=\"240\" y=\"240\" /><use transform=\"translate(240, 240)\" xlink:href=\"#white-knight\" /><rect class=\"square dark g3\" fill=\"#d18b47\" height=\"45\" stroke=\"none\" width=\"45\" x=\"285\" y=\"240\" /><rect class=\"square light h3\" fill=\"#ffce9e\" height=\"45\" stroke=\"none\" width=\"45\" x=\"330\" y=\"240\" /><rect class=\"square light a4\" fill=\"#ffce9e\" height=\"45\" stroke=\"none\" width=\"45\" x=\"15\" y=\"195\" /><rect class=\"square dark b4\" fill=\"#d18b47\" height=\"45\" stroke=\"none\" width=\"45\" x=\"60\" y=\"195\" /><rect class=\"square light c4\" fill=\"#ffce9e\" height=\"45\" stroke=\"none\" width=\"45\" x=\"105\" y=\"195\" /><use transform=\"translate(105, 195)\" xlink:href=\"#white-bishop\" /><rect class=\"square dark lastmove d4\" fill=\"#aaa23b\" height=\"45\" stroke=\"none\" width=\"45\" x=\"150\" y=\"195\" /><use transform=\"translate(150, 195)\" xlink:href=\"#black-knight\" /><rect class=\"square light e4\" fill=\"#ffce9e\" height=\"45\" stroke=\"none\" width=\"45\" x=\"195\" y=\"195\" /><rect class=\"square dark f4\" fill=\"#d18b47\" height=\"45\" stroke=\"none\" width=\"45\" x=\"240\" y=\"195\" /><rect class=\"square light g4\" fill=\"#ffce9e\" height=\"45\" stroke=\"none\" width=\"45\" x=\"285\" y=\"195\" /><rect class=\"square dark h4\" fill=\"#d18b47\" height=\"45\" stroke=\"none\" width=\"45\" x=\"330\" y=\"195\" /><rect class=\"square dark a5\" fill=\"#d18b47\" height=\"45\" stroke=\"none\" width=\"45\" x=\"15\" y=\"150\" /><rect class=\"square light b5\" fill=\"#ffce9e\" height=\"45\" stroke=\"none\" width=\"45\" x=\"60\" y=\"150\" /><rect class=\"square dark c5\" fill=\"#d18b47\" height=\"45\" stroke=\"none\" width=\"45\" x=\"105\" y=\"150\" /><rect class=\"square light d5\" fill=\"#ffce9e\" height=\"45\" stroke=\"none\" width=\"45\" x=\"150\" y=\"150\" /><use transform=\"translate(150, 150)\" xlink:href=\"#white-pawn\" /><rect class=\"square dark e5\" fill=\"#d18b47\" height=\"45\" stroke=\"none\" width=\"45\" x=\"195\" y=\"150\" /><use transform=\"translate(195, 150)\" xlink:href=\"#black-pawn\" /><rect class=\"square light f5\" fill=\"#ffce9e\" height=\"45\" stroke=\"none\" width=\"45\" x=\"240\" y=\"150\" /><rect class=\"square dark g5\" fill=\"#d18b47\" height=\"45\" stroke=\"none\" width=\"45\" x=\"285\" y=\"150\" /><rect class=\"square light h5\" fill=\"#ffce9e\" height=\"45\" stroke=\"none\" width=\"45\" x=\"330\" y=\"150\" /><rect class=\"square light a6\" fill=\"#ffce9e\" height=\"45\" stroke=\"none\" width=\"45\" x=\"15\" y=\"105\" /><rect class=\"square dark b6\" fill=\"#d18b47\" height=\"45\" stroke=\"none\" width=\"45\" x=\"60\" y=\"105\" /><rect class=\"square light lastmove c6\" fill=\"#cdd16a\" height=\"45\" stroke=\"none\" width=\"45\" x=\"105\" y=\"105\" /><rect class=\"square dark d6\" fill=\"#d18b47\" height=\"45\" stroke=\"none\" width=\"45\" x=\"150\" y=\"105\" /><rect class=\"square light e6\" fill=\"#ffce9e\" height=\"45\" stroke=\"none\" width=\"45\" x=\"195\" y=\"105\" /><rect class=\"square dark f6\" fill=\"#d18b47\" height=\"45\" stroke=\"none\" width=\"45\" x=\"240\" y=\"105\" /><rect class=\"square light g6\" fill=\"#ffce9e\" height=\"45\" stroke=\"none\" width=\"45\" x=\"285\" y=\"105\" /><rect class=\"square dark h6\" fill=\"#d18b47\" height=\"45\" stroke=\"none\" width=\"45\" x=\"330\" y=\"105\" /><rect class=\"square dark a7\" fill=\"#d18b47\" height=\"45\" stroke=\"none\" width=\"45\" x=\"15\" y=\"60\" /><use transform=\"translate(15, 60)\" xlink:href=\"#black-pawn\" /><rect class=\"square light b7\" fill=\"#ffce9e\" height=\"45\" stroke=\"none\" width=\"45\" x=\"60\" y=\"60\" /><use transform=\"translate(60, 60)\" xlink:href=\"#black-pawn\" /><rect class=\"square dark c7\" fill=\"#d18b47\" height=\"45\" stroke=\"none\" width=\"45\" x=\"105\" y=\"60\" /><use transform=\"translate(105, 60)\" xlink:href=\"#black-pawn\" /><rect class=\"square light d7\" fill=\"#ffce9e\" height=\"45\" stroke=\"none\" width=\"45\" x=\"150\" y=\"60\" /><rect class=\"square dark e7\" fill=\"#d18b47\" height=\"45\" stroke=\"none\" width=\"45\" x=\"195\" y=\"60\" /><rect class=\"square light f7\" fill=\"#ffce9e\" height=\"45\" stroke=\"none\" width=\"45\" x=\"240\" y=\"60\" /><use transform=\"translate(240, 60)\" xlink:href=\"#black-pawn\" /><rect class=\"square dark g7\" fill=\"#d18b47\" height=\"45\" stroke=\"none\" width=\"45\" x=\"285\" y=\"60\" /><use transform=\"translate(285, 60)\" xlink:href=\"#black-pawn\" /><rect class=\"square light h7\" fill=\"#ffce9e\" height=\"45\" stroke=\"none\" width=\"45\" x=\"330\" y=\"60\" /><use transform=\"translate(330, 60)\" xlink:href=\"#black-pawn\" /><rect class=\"square light a8\" fill=\"#ffce9e\" height=\"45\" stroke=\"none\" width=\"45\" x=\"15\" y=\"15\" /><use transform=\"translate(15, 15)\" xlink:href=\"#black-rook\" /><rect class=\"square dark b8\" fill=\"#d18b47\" height=\"45\" stroke=\"none\" width=\"45\" x=\"60\" y=\"15\" /><rect class=\"square light c8\" fill=\"#ffce9e\" height=\"45\" stroke=\"none\" width=\"45\" x=\"105\" y=\"15\" /><use transform=\"translate(105, 15)\" xlink:href=\"#black-bishop\" /><rect class=\"square dark d8\" fill=\"#d18b47\" height=\"45\" stroke=\"none\" width=\"45\" x=\"150\" y=\"15\" /><use transform=\"translate(150, 15)\" xlink:href=\"#black-queen\" /><rect class=\"square light e8\" fill=\"#ffce9e\" height=\"45\" stroke=\"none\" width=\"45\" x=\"195\" y=\"15\" /><use transform=\"translate(195, 15)\" xlink:href=\"#black-king\" /><rect class=\"square dark f8\" fill=\"#d18b47\" height=\"45\" stroke=\"none\" width=\"45\" x=\"240\" y=\"15\" /><use transform=\"translate(240, 15)\" xlink:href=\"#black-bishop\" /><rect class=\"square light g8\" fill=\"#ffce9e\" height=\"45\" stroke=\"none\" width=\"45\" x=\"285\" y=\"15\" /><use transform=\"translate(285, 15)\" xlink:href=\"#black-knight\" /><rect class=\"square dark h8\" fill=\"#d18b47\" height=\"45\" stroke=\"none\" width=\"45\" x=\"330\" y=\"15\" /><use transform=\"translate(330, 15)\" xlink:href=\"#black-rook\" /><g fill=\"#e5e5e5\" stroke=\"#e5e5e5\" transform=\"translate(20, 0) scale(0.75, 0.75)\"><path d=\"M23.328 10.016q-1.742 0-2.414.398-.672.398-.672 1.36 0 .765.5 1.218.508.445 1.375.445 1.196 0 1.914-.843.727-.852.727-2.258v-.32zm2.867-.594v4.992h-1.437v-1.328q-.492.797-1.227 1.18-.734.375-1.797.375-1.343 0-2.14-.75-.79-.758-.79-2.024 0-1.476.985-2.226.992-.75 2.953-.75h2.016V8.75q0-.992-.656-1.531-.649-.547-1.829-.547-.75 0-1.46.18-.711.18-1.368.539V6.062q.79-.304 1.532-.453.742-.156 1.445-.156 1.898 0 2.836.984.937.985.937 2.985z\" /></g><g fill=\"#e5e5e5\" stroke=\"#e5e5e5\" transform=\"translate(20, 375) scale(0.75, 0.75)\"><path d=\"M23.328 10.016q-1.742 0-2.414.398-.672.398-.672 1.36 0 .765.5 1.218.508.445 1.375.445 1.196 0 1.914-.843.727-.852.727-2.258v-.32zm2.867-.594v4.992h-1.437v-1.328q-.492.797-1.227 1.18-.734.375-1.797.375-1.343 0-2.14-.75-.79-.758-.79-2.024 0-1.476.985-2.226.992-.75 2.953-.75h2.016V8.75q0-.992-.656-1.531-.649-.547-1.829-.547-.75 0-1.46.18-.711.18-1.368.539V6.062q.79-.304 1.532-.453.742-.156 1.445-.156 1.898 0 2.836.984.937.985.937 2.985z\" /></g><g fill=\"#e5e5e5\" stroke=\"#e5e5e5\" transform=\"translate(65, 0) scale(0.75, 0.75)\"><path d=\"M24.922 10.047q0-1.586-.656-2.485-.649-.906-1.79-.906-1.14 0-1.796.906-.649.899-.649 2.485 0 1.586.649 2.492.656.898 1.797.898 1.14 0 1.789-.898.656-.906.656-2.492zm-4.89-3.055q.452-.781 1.14-1.156.695-.383 1.656-.383 1.594 0 2.586 1.266 1 1.265 1 3.328 0 2.062-1 3.328-.992 1.266-2.586 1.266-.96 0-1.656-.375-.688-.383-1.14-1.164v1.312h-1.446V2.258h1.445z\" /></g><g fill=\"#e5e5e5\" stroke=\"#e5e5e5\" transform=\"translate(65, 375) scale(0.75, 0.75)\"><path d=\"M24.922 10.047q0-1.586-.656-2.485-.649-.906-1.79-.906-1.14 0-1.796.906-.649.899-.649 2.485 0 1.586.649 2.492.656.898 1.797.898 1.14 0 1.789-.898.656-.906.656-2.492zm-4.89-3.055q.452-.781 1.14-1.156.695-.383 1.656-.383 1.594 0 2.586 1.266 1 1.265 1 3.328 0 2.062-1 3.328-.992 1.266-2.586 1.266-.96 0-1.656-.375-.688-.383-1.14-1.164v1.312h-1.446V2.258h1.445z\" /></g><g fill=\"#e5e5e5\" stroke=\"#e5e5e5\" transform=\"translate(110, 0) scale(0.75, 0.75)\"><path d=\"M25.96 6v1.344q-.608-.336-1.226-.5-.609-.172-1.234-.172-1.398 0-2.172.89-.773.883-.773 2.485 0 1.601.773 2.492.774.883 2.172.883.625 0 1.234-.164.618-.172 1.227-.508v1.328q-.602.281-1.25.422-.64.14-1.367.14-1.977 0-3.14-1.242-1.165-1.242-1.165-3.351 0-2.14 1.172-3.367 1.18-1.227 3.227-1.227.664 0 1.296.14.633.134 1.227.407z\" /></g><g fill=\"#e5e5e5\" stroke=\"#e5e5e5\" transform=\"translate(110, 375) scale(0.75, 0.75)\"><path d=\"M25.96 6v1.344q-.608-.336-1.226-.5-.609-.172-1.234-.172-1.398 0-2.172.89-.773.883-.773 2.485 0 1.601.773 2.492.774.883 2.172.883.625 0 1.234-.164.618-.172 1.227-.508v1.328q-.602.281-1.25.422-.64.14-1.367.14-1.977 0-3.14-1.242-1.165-1.242-1.165-3.351 0-2.14 1.172-3.367 1.18-1.227 3.227-1.227.664 0 1.296.14.633.134 1.227.407z\" /></g><g fill=\"#e5e5e5\" stroke=\"#e5e5e5\" transform=\"translate(155, 0) scale(0.75, 0.75)\"><path d=\"M24.973 6.992V2.258h1.437v12.156h-1.437v-1.312q-.453.78-1.149 1.164-.687.375-1.656.375-1.586 0-2.586-1.266-.992-1.266-.992-3.328 0-2.063.992-3.328 1-1.266 2.586-1.266.969 0 1.656.383.696.375 1.149 1.156zm-4.899 3.055q0 1.586.649 2.492.656.898 1.797.898 1.14 0 1.796-.898.657-.906.657-2.492 0-1.586-.657-2.485-.656-.906-1.796-.906-1.141 0-1.797.906-.649.899-.649 2.485z\" /></g><g fill=\"#e5e5e5\" stroke=\"#e5e5e5\" transform=\"translate(155, 375) scale(0.75, 0.75)\"><path d=\"M24.973 6.992V2.258h1.437v12.156h-1.437v-1.312q-.453.78-1.149 1.164-.687.375-1.656.375-1.586 0-2.586-1.266-.992-1.266-.992-3.328 0-2.063.992-3.328 1-1.266 2.586-1.266.969 0 1.656.383.696.375 1.149 1.156zm-4.899 3.055q0 1.586.649 2.492.656.898 1.797.898 1.14 0 1.796-.898.657-.906.657-2.492 0-1.586-.657-2.485-.656-.906-1.796-.906-1.141 0-1.797.906-.649.899-.649 2.485z\" /></g><g fill=\"#e5e5e5\" stroke=\"#e5e5e5\" transform=\"translate(200, 0) scale(0.75, 0.75)\"><path d=\"M26.555 9.68v.703h-6.61q.094 1.484.89 2.265.806.774 2.235.774.828 0 1.602-.203.781-.203 1.547-.61v1.36q-.774.328-1.586.5-.813.172-1.649.172-2.093 0-3.32-1.22-1.219-1.218-1.219-3.296 0-2.148 1.157-3.406 1.164-1.266 3.132-1.266 1.766 0 2.79 1.14 1.03 1.134 1.03 3.087zm-1.438-.422q-.015-1.18-.664-1.883-.64-.703-1.703-.703-1.203 0-1.93.68-.718.68-.828 1.914z\" /></g><g fill=\"#e5e5e5\" stroke=\"#e5e5e5\" transform=\"translate(200, 375) scale(0.75, 0.75)\"><path d=\"M26.555 9.68v.703h-6.61q.094 1.484.89 2.265.806.774 2.235.774.828 0 1.602-.203.781-.203 1.547-.61v1.36q-.774.328-1.586.5-.813.172-1.649.172-2.093 0-3.32-1.22-1.219-1.218-1.219-3.296 0-2.148 1.157-3.406 1.164-1.266 3.132-1.266 1.766 0 2.79 1.14 1.03 1.134 1.03 3.087zm-1.438-.422q-.015-1.18-.664-1.883-.64-.703-1.703-.703-1.203 0-1.93.68-.718.68-.828 1.914z\" /></g><g fill=\"#e5e5e5\" stroke=\"#e5e5e5\" transform=\"translate(245, 0) scale(0.75, 0.75)\"><path d=\"M25.285 2.258v1.195H23.91q-.773 0-1.078.313-.297.312-.297 1.125v.773h2.367v1.117h-2.367v7.633H21.09V6.781h-1.375V5.664h1.375v-.61q0-1.46.68-2.124.68-.672 2.156-.672z\" /></g><g fill=\"#e5e5e5\" stroke=\"#e5e5e5\" transform=\"translate(245, 375) scale(0.75, 0.75)\"><path d=\"M25.285 2.258v1.195H23.91q-.773 0-1.078.313-.297.312-.297 1.125v.773h2.367v1.117h-2.367v7.633H21.09V6.781h-1.375V5.664h1.375v-.61q0-1.46.68-2.124.68-.672 2.156-.672z\" /></g><g fill=\"#e5e5e5\" stroke=\"#e5e5e5\" transform=\"translate(290, 0) scale(0.75, 0.75)\"><path d=\"M24.973 9.937q0-1.562-.649-2.421-.64-.86-1.804-.86-1.157 0-1.805.86-.64.859-.64 2.421 0 1.555.64 2.415.648.859 1.805.859 1.164 0 1.804-.86.649-.859.649-2.414zm1.437 3.391q0 2.234-.992 3.32-.992 1.094-3.04 1.094-.757 0-1.429-.117-.672-.11-1.304-.344v-1.398q.632.344 1.25.508.617.164 1.257.164 1.414 0 2.118-.743.703-.734.703-2.226v-.711q-.446.773-1.141 1.156-.695.383-1.664.383-1.61 0-2.594-1.227-.984-1.226-.984-3.25 0-2.03.984-3.257.985-1.227 2.594-1.227.969 0 1.664.383t1.14 1.156V5.664h1.438z\" /></g><g fill=\"#e5e5e5\" stroke=\"#e5e5e5\" transform=\"translate(290, 375) scale(0.75, 0.75)\"><path d=\"M24.973 9.937q0-1.562-.649-2.421-.64-.86-1.804-.86-1.157 0-1.805.86-.64.859-.64 2.421 0 1.555.64 2.415.648.859 1.805.859 1.164 0 1.804-.86.649-.859.649-2.414zm1.437 3.391q0 2.234-.992 3.32-.992 1.094-3.04 1.094-.757 0-1.429-.117-.672-.11-1.304-.344v-1.398q.632.344 1.25.508.617.164 1.257.164 1.414 0 2.118-.743.703-.734.703-2.226v-.711q-.446.773-1.141 1.156-.695.383-1.664.383-1.61 0-2.594-1.227-.984-1.226-.984-3.25 0-2.03.984-3.257.985-1.227 2.594-1.227.969 0 1.664.383t1.14 1.156V5.664h1.438z\" /></g><g fill=\"#e5e5e5\" stroke=\"#e5e5e5\" transform=\"translate(335, 0) scale(0.75, 0.75)\"><path d=\"M26.164 9.133v5.281h-1.437V9.18q0-1.243-.485-1.86-.484-.617-1.453-.617-1.164 0-1.836.742-.672.742-.672 2.024v4.945h-1.445V2.258h1.445v4.765q.516-.789 1.211-1.18.703-.39 1.617-.39 1.508 0 2.282.938.773.93.773 2.742z\" /></g><g fill=\"#e5e5e5\" stroke=\"#e5e5e5\" transform=\"translate(335, 375) scale(0.75, 0.75)\"><path d=\"M26.164 9.133v5.281h-1.437V9.18q0-1.243-.485-1.86-.484-.617-1.453-.617-1.164 0-1.836.742-.672.742-.672 2.024v4.945h-1.445V2.258h1.445v4.765q.516-.789 1.211-1.18.703-.39 1.617-.39 1.508 0 2.282.938.773.93.773 2.742z\" /></g><g fill=\"#e5e5e5\" stroke=\"#e5e5e5\" transform=\"translate(0, 335) scale(0.75, 0.75)\"><path d=\"M6.754 26.996h2.578v-8.898l-2.805.562v-1.437l2.79-.563h1.578v10.336h2.578v1.328h-6.72z\" /></g><g fill=\"#e5e5e5\" stroke=\"#e5e5e5\" transform=\"translate(375, 335) scale(0.75, 0.75)\"><path d=\"M6.754 26.996h2.578v-8.898l-2.805.562v-1.437l2.79-.563h1.578v10.336h2.578v1.328h-6.72z\" /></g><g fill=\"#e5e5e5\" stroke=\"#e5e5e5\" transform=\"translate(0, 290) scale(0.75, 0.75)\"><path d=\"M8.195 26.996h5.508v1.328H6.297v-1.328q.898-.93 2.445-2.492 1.555-1.57 1.953-2.024.758-.851 1.055-1.437.305-.594.305-1.164 0-.93-.657-1.516-.648-.586-1.695-.586-.742 0-1.57.258-.82.258-1.758.781v-1.593q.953-.383 1.781-.578.828-.196 1.516-.196 1.812 0 2.89.906 1.079.907 1.079 2.422 0 .72-.274 1.368-.265.64-.976 1.515-.196.227-1.243 1.313-1.046 1.078-2.953 3.023z\" /></g><g fill=\"#e5e5e5\" stroke=\"#e5e5e5\" transform=\"translate(375, 290) scale(0.75, 0.75)\"><path d=\"M8.195 26.996h5.508v1.328H6.297v-1.328q.898-.93 2.445-2.492 1.555-1.57 1.953-2.024.758-.851 1.055-1.437.305-.594.305-1.164 0-.93-.657-1.516-.648-.586-1.695-.586-.742 0-1.57.258-.82.258-1.758.781v-1.593q.953-.383 1.781-.578.828-.196 1.516-.196 1.812 0 2.89.906 1.079.907 1.079 2.422 0 .72-.274 1.368-.265.64-.976 1.515-.196.227-1.243 1.313-1.046 1.078-2.953 3.023z\" /></g><g fill=\"#e5e5e5\" stroke=\"#e5e5e5\" transform=\"translate(0, 245) scale(0.75, 0.75)\"><path d=\"M11.434 22.035q1.132.242 1.765 1.008.64.766.64 1.89 0 1.727-1.187 2.672-1.187.946-3.375.946-.734 0-1.515-.149-.774-.14-1.602-.43V26.45q.656.383 1.438.578.78.196 1.632.196 1.485 0 2.258-.586.782-.586.782-1.703 0-1.032-.727-1.61-.719-.586-2.008-.586h-1.36v-1.297h1.423q1.164 0 1.78-.46.618-.47.618-1.344 0-.899-.64-1.375-.633-.485-1.82-.485-.65 0-1.391.141-.743.14-1.633.437V16.95q.898-.25 1.68-.375.788-.125 1.484-.125 1.797 0 2.844.82 1.046.813 1.046 2.204 0 .968-.554 1.64-.555.664-1.578.922z\" /></g><g fill=\"#e5e5e5\" stroke=\"#e5e5e5\" transform=\"translate(375, 245) scale(0.75, 0.75)\"><path d=\"M11.434 22.035q1.132.242 1.765 1.008.64.766.64 1.89 0 1.727-1.187 2.672-1.187.946-3.375.946-.734 0-1.515-.149-.774-.14-1.602-.43V26.45q.656.383 1.438.578.78.196 1.632.196 1.485 0 2.258-.586.782-.586.782-1.703 0-1.032-.727-1.61-.719-.586-2.008-.586h-1.36v-1.297h1.423q1.164 0 1.78-.46.618-.47.618-1.344 0-.899-.64-1.375-.633-.485-1.82-.485-.65 0-1.391.141-.743.14-1.633.437V16.95q.898-.25 1.68-.375.788-.125 1.484-.125 1.797 0 2.844.82 1.046.813 1.046 2.204 0 .968-.554 1.64-.555.664-1.578.922z\" /></g><g fill=\"#e5e5e5\" stroke=\"#e5e5e5\" transform=\"translate(0, 200) scale(0.75, 0.75)\"><path d=\"M11.016 18.035L7.03 24.262h3.985zm-.414-1.375h1.984v7.602h1.664v1.312h-1.664v2.75h-1.57v-2.75H5.75v-1.523z\" /></g><g fill=\"#e5e5e5\" stroke=\"#e5e5e5\" transform=\"translate(375, 200) scale(0.75, 0.75)\"><path d=\"M11.016 18.035L7.03 24.262h3.985zm-.414-1.375h1.984v7.602h1.664v1.312h-1.664v2.75h-1.57v-2.75H5.75v-1.523z\" /></g><g fill=\"#e5e5e5\" stroke=\"#e5e5e5\" transform=\"translate(0, 155) scale(0.75, 0.75)\"><path d=\"M6.719 16.66h6.195v1.328h-4.75v2.86q.344-.118.688-.172.343-.063.687-.063 1.953 0 3.094 1.07 1.14 1.07 1.14 2.899 0 1.883-1.171 2.93-1.172 1.039-3.305 1.039-.735 0-1.5-.125-.758-.125-1.57-.375v-1.586q.703.383 1.453.57.75.188 1.586.188 1.351 0 2.14-.711.79-.711.79-1.93 0-1.219-.79-1.93-.789-.71-2.14-.71-.633 0-1.266.14-.625.14-1.281.438z\" /></g><g fill=\"#e5e5e5\" stroke=\"#e5e5e5\" transform=\"translate(375, 155) scale(0.75, 0.75)\"><path d=\"M6.719 16.66h6.195v1.328h-4.75v2.86q.344-.118.688-.172.343-.063.687-.063 1.953 0 3.094 1.07 1.14 1.07 1.14 2.899 0 1.883-1.171 2.93-1.172 1.039-3.305 1.039-.735 0-1.5-.125-.758-.125-1.57-.375v-1.586q.703.383 1.453.57.75.188 1.586.188 1.351 0 2.14-.711.79-.711.79-1.93 0-1.219-.79-1.93-.789-.71-2.14-.71-.633 0-1.266.14-.625.14-1.281.438z\" /></g><g fill=\"#e5e5e5\" stroke=\"#e5e5e5\" transform=\"translate(0, 110) scale(0.75, 0.75)\"><path d=\"M10.137 21.863q-1.063 0-1.688.727-.617.726-.617 1.992 0 1.258.617 1.992.625.727 1.688.727 1.062 0 1.68-.727.624-.734.624-1.992 0-1.266-.625-1.992-.617-.727-1.68-.727zm3.133-4.945v1.437q-.594-.28-1.204-.43-.601-.148-1.195-.148-1.562 0-2.39 1.055-.82 1.055-.938 3.188.46-.68 1.156-1.04.696-.367 1.531-.367 1.758 0 2.774 1.07 1.023 1.063 1.023 2.899 0 1.797-1.062 2.883-1.063 1.086-2.828 1.086-2.024 0-3.094-1.547-1.07-1.555-1.07-4.5 0-2.766 1.312-4.406 1.313-1.649 3.524-1.649.593 0 1.195.117.61.118 1.266.352z\" /></g><g fill=\"#e5e5e5\" stroke=\"#e5e5e5\" transform=\"translate(375, 110) scale(0.75, 0.75)\"><path d=\"M10.137 21.863q-1.063 0-1.688.727-.617.726-.617 1.992 0 1.258.617 1.992.625.727 1.688.727 1.062 0 1.68-.727.624-.734.624-1.992 0-1.266-.625-1.992-.617-.727-1.68-.727zm3.133-4.945v1.437q-.594-.28-1.204-.43-.601-.148-1.195-.148-1.562 0-2.39 1.055-.82 1.055-.938 3.188.46-.68 1.156-1.04.696-.367 1.531-.367 1.758 0 2.774 1.07 1.023 1.063 1.023 2.899 0 1.797-1.062 2.883-1.063 1.086-2.828 1.086-2.024 0-3.094-1.547-1.07-1.555-1.07-4.5 0-2.766 1.312-4.406 1.313-1.649 3.524-1.649.593 0 1.195.117.61.118 1.266.352z\" /></g><g fill=\"#e5e5e5\" stroke=\"#e5e5e5\" transform=\"translate(0, 65) scale(0.75, 0.75)\"><path d=\"M6.25 16.66h7.5v.672L9.516 28.324H7.867l3.985-10.336H6.25z\" /></g><g fill=\"#e5e5e5\" stroke=\"#e5e5e5\" transform=\"translate(375, 65) scale(0.75, 0.75)\"><path d=\"M6.25 16.66h7.5v.672L9.516 28.324H7.867l3.985-10.336H6.25z\" /></g><g fill=\"#e5e5e5\" stroke=\"#e5e5e5\" transform=\"translate(0, 20) scale(0.75, 0.75)\"><path d=\"M10 22.785q-1.125 0-1.773.602-.641.601-.641 1.656t.64 1.656q.649.602 1.774.602t1.773-.602q.649-.61.649-1.656 0-1.055-.649-1.656-.64-.602-1.773-.602zm-1.578-.672q-1.016-.25-1.586-.945-.563-.695-.563-1.695 0-1.399.993-2.211 1-.813 2.734-.813 1.742 0 2.734.813.993.812.993 2.21 0 1-.57 1.696-.563.695-1.571.945 1.14.266 1.773 1.04.641.773.641 1.89 0 1.695-1.04 2.602-1.03.906-2.96.906t-2.969-.906Q6 26.738 6 25.043q0-1.117.64-1.89.641-.774 1.782-1.04zm-.578-2.492q0 .906.562 1.414.57.508 1.594.508 1.016 0 1.586-.508.578-.508.578-1.414 0-.906-.578-1.414-.57-.508-1.586-.508-1.023 0-1.594.508-.562.508-.562 1.414z\" /></g><g fill=\"#e5e5e5\" stroke=\"#e5e5e5\" transform=\"translate(375, 20) scale(0.75, 0.75)\"><path d=\"M10 22.785q-1.125 0-1.773.602-.641.601-.641 1.656t.64 1.656q.649.602 1.774.602t1.773-.602q.649-.61.649-1.656 0-1.055-.649-1.656-.64-.602-1.773-.602zm-1.578-.672q-1.016-.25-1.586-.945-.563-.695-.563-1.695 0-1.399.993-2.211 1-.813 2.734-.813 1.742 0 2.734.813.993.812.993 2.21 0 1-.57 1.696-.563.695-1.571.945 1.14.266 1.773 1.04.641.773.641 1.89 0 1.695-1.04 2.602-1.03.906-2.96.906t-2.969-.906Q6 26.738 6 25.043q0-1.117.64-1.89.641-.774 1.782-1.04zm-.578-2.492q0 .906.562 1.414.57.508 1.594.508 1.016 0 1.586-.508.578-.508.578-1.414 0-.906-.578-1.414-.57-.508-1.586-.508-1.023 0-1.594.508-.562.508-.562 1.414z\" /></g></svg>"
      ],
      "text/plain": [
       "Board('r1bqkbnr/ppp2ppp/8/3Pp3/2Bn4/5N2/PPPP1PPP/RNBQK2R w KQkq - 1 5')"
      ]
     },
     "execution_count": 58,
     "metadata": {},
     "output_type": "execute_result"
    }
   ],
   "source": [
    "import chess.pgn\n",
    "import io\n",
    "\n",
    "pgn = io.StringIO('1. e4 e5 2. Nf3 Nc6 3. Bc4 d5 4. exd5 Nd4')\n",
    "game = chess.pgn.read_game(pgn)\n",
    "\n",
    "\n",
    "# Iterate through all moves and play them on a board.\n",
    "board = game.board()\n",
    "for move in game.mainline_moves():\n",
    "    board.push(move)\n",
    "\n",
    "board"
   ]
  },
  {
   "cell_type": "code",
   "execution_count": null,
   "metadata": {},
   "outputs": [],
   "source": []
  }
 ],
 "metadata": {
  "kernelspec": {
   "display_name": "Python 3",
   "language": "python",
   "name": "python3"
  },
  "language_info": {
   "codemirror_mode": {
    "name": "ipython",
    "version": 3
   },
   "file_extension": ".py",
   "mimetype": "text/x-python",
   "name": "python",
   "nbconvert_exporter": "python",
   "pygments_lexer": "ipython3",
   "version": "3.7.4"
  }
 },
 "nbformat": 4,
 "nbformat_minor": 2
}
